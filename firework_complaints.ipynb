{
 "cells": [
  {
   "cell_type": "code",
   "execution_count": 1,
   "metadata": {
    "collapsed": false
   },
   "outputs": [
    {
     "name": "stderr",
     "output_type": "stream",
     "text": [
      "/Users/virginiedo/miniconda2/lib/python2.7/site-packages/bokeh/util/deprecation.py:34: BokehDeprecationWarning: \n",
      "The bokeh.charts API has moved to a separate 'bkcharts' package.\n",
      "\n",
      "This compatibility shim will remain until Bokeh 1.0 is released.\n",
      "After that, if you want to use this API you will have to install\n",
      "the bkcharts package explicitly.\n",
      "\n",
      "  warn(message)\n"
     ]
    },
    {
     "data": {
      "text/html": [
       "\n",
       "    <div class=\"bk-root\">\n",
       "        <a href=\"http://bokeh.pydata.org\" target=\"_blank\" class=\"bk-logo bk-logo-small bk-logo-notebook\"></a>\n",
       "        <span id=\"bcd683dc-a3c8-4c67-9cdc-46cff635b01a\">Loading BokehJS ...</span>\n",
       "    </div>"
      ]
     },
     "metadata": {},
     "output_type": "display_data"
    },
    {
     "data": {
      "application/javascript": [
       "\n",
       "(function(global) {\n",
       "  function now() {\n",
       "    return new Date();\n",
       "  }\n",
       "\n",
       "  var force = true;\n",
       "\n",
       "  if (typeof (window._bokeh_onload_callbacks) === \"undefined\" || force === true) {\n",
       "    window._bokeh_onload_callbacks = [];\n",
       "    window._bokeh_is_loading = undefined;\n",
       "  }\n",
       "\n",
       "\n",
       "  \n",
       "  if (typeof (window._bokeh_timeout) === \"undefined\" || force === true) {\n",
       "    window._bokeh_timeout = Date.now() + 5000;\n",
       "    window._bokeh_failed_load = false;\n",
       "  }\n",
       "\n",
       "  var NB_LOAD_WARNING = {'data': {'text/html':\n",
       "     \"<div style='background-color: #fdd'>\\n\"+\n",
       "     \"<p>\\n\"+\n",
       "     \"BokehJS does not appear to have successfully loaded. If loading BokehJS from CDN, this \\n\"+\n",
       "     \"may be due to a slow or bad network connection. Possible fixes:\\n\"+\n",
       "     \"</p>\\n\"+\n",
       "     \"<ul>\\n\"+\n",
       "     \"<li>re-rerun `output_notebook()` to attempt to load from CDN again, or</li>\\n\"+\n",
       "     \"<li>use INLINE resources instead, as so:</li>\\n\"+\n",
       "     \"</ul>\\n\"+\n",
       "     \"<code>\\n\"+\n",
       "     \"from bokeh.resources import INLINE\\n\"+\n",
       "     \"output_notebook(resources=INLINE)\\n\"+\n",
       "     \"</code>\\n\"+\n",
       "     \"</div>\"}};\n",
       "\n",
       "  function display_loaded() {\n",
       "    if (window.Bokeh !== undefined) {\n",
       "      var el = document.getElementById(\"bcd683dc-a3c8-4c67-9cdc-46cff635b01a\");\n",
       "      el.textContent = \"BokehJS \" + Bokeh.version + \" successfully loaded.\";\n",
       "    } else if (Date.now() < window._bokeh_timeout) {\n",
       "      setTimeout(display_loaded, 100)\n",
       "    }\n",
       "  }\n",
       "\n",
       "  function run_callbacks() {\n",
       "    try {\n",
       "      window._bokeh_onload_callbacks.forEach(function(callback) { callback() });\n",
       "    }\n",
       "    finally {\n",
       "      delete window._bokeh_onload_callbacks\n",
       "    }\n",
       "    console.info(\"Bokeh: all callbacks have finished\");\n",
       "  }\n",
       "\n",
       "  function load_libs(js_urls, callback) {\n",
       "    window._bokeh_onload_callbacks.push(callback);\n",
       "    if (window._bokeh_is_loading > 0) {\n",
       "      console.log(\"Bokeh: BokehJS is being loaded, scheduling callback at\", now());\n",
       "      return null;\n",
       "    }\n",
       "    if (js_urls == null || js_urls.length === 0) {\n",
       "      run_callbacks();\n",
       "      return null;\n",
       "    }\n",
       "    console.log(\"Bokeh: BokehJS not loaded, scheduling load and callback at\", now());\n",
       "    window._bokeh_is_loading = js_urls.length;\n",
       "    for (var i = 0; i < js_urls.length; i++) {\n",
       "      var url = js_urls[i];\n",
       "      var s = document.createElement('script');\n",
       "      s.src = url;\n",
       "      s.async = false;\n",
       "      s.onreadystatechange = s.onload = function() {\n",
       "        window._bokeh_is_loading--;\n",
       "        if (window._bokeh_is_loading === 0) {\n",
       "          console.log(\"Bokeh: all BokehJS libraries loaded\");\n",
       "          run_callbacks()\n",
       "        }\n",
       "      };\n",
       "      s.onerror = function() {\n",
       "        console.warn(\"failed to load library \" + url);\n",
       "      };\n",
       "      console.log(\"Bokeh: injecting script tag for BokehJS library: \", url);\n",
       "      document.getElementsByTagName(\"head\")[0].appendChild(s);\n",
       "    }\n",
       "  };var element = document.getElementById(\"bcd683dc-a3c8-4c67-9cdc-46cff635b01a\");\n",
       "  if (element == null) {\n",
       "    console.log(\"Bokeh: ERROR: autoload.js configured with elementid 'bcd683dc-a3c8-4c67-9cdc-46cff635b01a' but no matching script tag was found. \")\n",
       "    return false;\n",
       "  }\n",
       "\n",
       "  var js_urls = [\"https://cdn.pydata.org/bokeh/release/bokeh-0.12.6.min.js\", \"https://cdn.pydata.org/bokeh/release/bokeh-widgets-0.12.6.min.js\"];\n",
       "\n",
       "  var inline_js = [\n",
       "    function(Bokeh) {\n",
       "      Bokeh.set_log_level(\"info\");\n",
       "    },\n",
       "    \n",
       "    function(Bokeh) {\n",
       "      \n",
       "    },\n",
       "    \n",
       "    function(Bokeh) {\n",
       "      \n",
       "      document.getElementById(\"bcd683dc-a3c8-4c67-9cdc-46cff635b01a\").textContent = \"BokehJS is loading...\";\n",
       "    },\n",
       "    function(Bokeh) {\n",
       "      console.log(\"Bokeh: injecting CSS: https://cdn.pydata.org/bokeh/release/bokeh-0.12.6.min.css\");\n",
       "      Bokeh.embed.inject_css(\"https://cdn.pydata.org/bokeh/release/bokeh-0.12.6.min.css\");\n",
       "      console.log(\"Bokeh: injecting CSS: https://cdn.pydata.org/bokeh/release/bokeh-widgets-0.12.6.min.css\");\n",
       "      Bokeh.embed.inject_css(\"https://cdn.pydata.org/bokeh/release/bokeh-widgets-0.12.6.min.css\");\n",
       "    }\n",
       "  ];\n",
       "\n",
       "  function run_inline_js() {\n",
       "    \n",
       "    if ((window.Bokeh !== undefined) || (force === true)) {\n",
       "      for (var i = 0; i < inline_js.length; i++) {\n",
       "        inline_js[i](window.Bokeh);\n",
       "      }if (force === true) {\n",
       "        display_loaded();\n",
       "      }} else if (Date.now() < window._bokeh_timeout) {\n",
       "      setTimeout(run_inline_js, 100);\n",
       "    } else if (!window._bokeh_failed_load) {\n",
       "      console.log(\"Bokeh: BokehJS failed to load within specified timeout.\");\n",
       "      window._bokeh_failed_load = true;\n",
       "    } else if (force !== true) {\n",
       "      var cell = $(document.getElementById(\"bcd683dc-a3c8-4c67-9cdc-46cff635b01a\")).parents('.cell').data().cell;\n",
       "      cell.output_area.append_execute_result(NB_LOAD_WARNING)\n",
       "    }\n",
       "\n",
       "  }\n",
       "\n",
       "  if (window._bokeh_is_loading === 0) {\n",
       "    console.log(\"Bokeh: BokehJS loaded, going straight to plotting\");\n",
       "    run_inline_js();\n",
       "  } else {\n",
       "    load_libs(js_urls, function() {\n",
       "      console.log(\"Bokeh: BokehJS plotting callback run at\", now());\n",
       "      run_inline_js();\n",
       "    });\n",
       "  }\n",
       "}(this));"
      ]
     },
     "metadata": {},
     "output_type": "display_data"
    }
   ],
   "source": [
    "import pandas as pd\n",
    "import numpy as np\n",
    "import matplotlib.pyplot as plt\n",
    "import timestring\n",
    "#from bokeh.plotting import figure\n",
    "from bokeh.charts import Histogram, Bar, Scatter\n",
    "from bokeh.io import output_notebook, push_notebook, show\n",
    "\n",
    "import seaborn as sns\n",
    "sns.set(style=\"darkgrid\")\n",
    "import folium\n",
    "\n",
    "%matplotlib inline\n",
    "output_notebook()"
   ]
  },
  {
   "cell_type": "code",
   "execution_count": 4,
   "metadata": {
    "collapsed": false
   },
   "outputs": [
    {
     "ename": "NameError",
     "evalue": "name 'pd' is not defined",
     "output_type": "error",
     "traceback": [
      "\u001b[0;31m---------------------------------------------------------------------------\u001b[0m",
      "\u001b[0;31mNameError\u001b[0m                                 Traceback (most recent call last)",
      "\u001b[0;32m<ipython-input-4-4ba0e98b38bf>\u001b[0m in \u001b[0;36m<module>\u001b[0;34m()\u001b[0m\n\u001b[0;32m----> 1\u001b[0;31m df = pd.read_csv('data/311_Fireworks_Complaints.csv',parse_dates=['Created Date', 'Closed Date'],\n\u001b[0m\u001b[1;32m      2\u001b[0m      infer_datetime_format=True)\n\u001b[1;32m      3\u001b[0m \u001b[0mdf\u001b[0m\u001b[1;33m.\u001b[0m\u001b[0mhead\u001b[0m\u001b[1;33m(\u001b[0m\u001b[1;36m5\u001b[0m\u001b[1;33m)\u001b[0m\u001b[1;33m\u001b[0m\u001b[0m\n",
      "\u001b[0;31mNameError\u001b[0m: name 'pd' is not defined"
     ]
    }
   ],
   "source": [
    "df = pd.read_csv('data/311_Fireworks_Complaints.csv',parse_dates=['Created Date', 'Closed Date'],\n",
    "     infer_datetime_format=True)\n",
    "df.head(5)"
   ]
  },
  {
   "cell_type": "markdown",
   "metadata": {},
   "source": [
    "# Data cleanup"
   ]
  },
  {
   "cell_type": "code",
   "execution_count": 3,
   "metadata": {
    "collapsed": false
   },
   "outputs": [
    {
     "data": {
      "text/plain": [
       "Unique Key                           0\n",
       "Created Date                         0\n",
       "Closed Date                          2\n",
       "Agency                               0\n",
       "Agency Name                          0\n",
       "Complaint Type                       0\n",
       "Descriptor                        1516\n",
       "Location Type                        0\n",
       "Incident Zip                         0\n",
       "Incident Address                   695\n",
       "Street Name                        695\n",
       "Cross Street 1                     692\n",
       "Cross Street 2                     692\n",
       "Intersection Street 1              826\n",
       "Intersection Street 2              826\n",
       "Address Type                         0\n",
       "City                                 0\n",
       "Landmark                          1514\n",
       "Facility Type                        1\n",
       "Status                               0\n",
       "Due Date                             0\n",
       "Resolution Action Updated Date       0\n",
       "Community Board                      0\n",
       "Borough                              0\n",
       "X Coordinate (State Plane)          14\n",
       "Y Coordinate (State Plane)          14\n",
       "Park Facility Name                   0\n",
       "Park Borough                         0\n",
       "School Name                          0\n",
       "School Number                        0\n",
       "School Region                        0\n",
       "School Code                          0\n",
       "School Phone Number                  0\n",
       "School Address                       0\n",
       "School City                          0\n",
       "School State                         0\n",
       "School Zip                           0\n",
       "School Not Found                     2\n",
       "School or Citywide Complaint      1517\n",
       "Vehicle Type                      1517\n",
       "Taxi Company Borough              1517\n",
       "Taxi Pick Up Location             1517\n",
       "Bridge Highway Name               1517\n",
       "Bridge Highway Direction          1517\n",
       "Road Ramp                         1517\n",
       "Bridge Highway Segment            1517\n",
       "Garage Lot Name                   1517\n",
       "Ferry Direction                   1517\n",
       "Ferry Terminal Name               1516\n",
       "Latitude                            14\n",
       "Longitude                           14\n",
       "Location                            14\n",
       "dtype: int64"
      ]
     },
     "execution_count": 3,
     "metadata": {},
     "output_type": "execute_result"
    }
   ],
   "source": [
    "df.isnull().sum()"
   ]
  },
  {
   "cell_type": "code",
   "execution_count": 4,
   "metadata": {
    "collapsed": false
   },
   "outputs": [
    {
     "data": {
      "text/plain": [
       "(1517, 14)"
      ]
     },
     "execution_count": 4,
     "metadata": {},
     "output_type": "execute_result"
    }
   ],
   "source": [
    "delete_columns = [\"Intersection Street 1\", \"Intersection Street 2\", \"Address Type\", \"Landmark\", \"Facility Type\",\\\n",
    "                  \"Status\", \"X Coordinate (State Plane)\", \"Y Coordinate (State Plane)\", \"Park Facility Name\",\\\n",
    "                  \"Park Borough\", \"School Name\", \"School Number\", \"School Region\", \"School Code\",\\\n",
    "                  \"School Phone Number\", \n",
    "                  \"School Address\", \"School City\", \"School State\", \"School Zip\", \"School Not Found\",\\\n",
    "                  \"School or Citywide Complaint\", \"Vehicle Type\", \"Taxi Company Borough\", \"Taxi Pick Up Location\",\\\n",
    "                  \"Bridge Highway Name\", \"Bridge Highway Direction\", \"Road Ramp\", \"Bridge Highway Segment\",\\\n",
    "                  \"Garage Lot Name\", \"Ferry Direction\", \"Ferry Terminal Name\",\"Due Date\", \\\n",
    "                  \"Resolution Action Updated Date\",\"Incident Address\",\"Street Name\",\"Cross Street 1\",\"Cross Street 2\",\\\n",
    "                  \"Location Type\"]\n",
    "\n",
    "df.drop(delete_columns, axis=1, inplace=True)\n",
    "df.shape"
   ]
  },
  {
   "cell_type": "code",
   "execution_count": 5,
   "metadata": {
    "collapsed": false
   },
   "outputs": [
    {
     "data": {
      "text/plain": [
       "Unique Key            0\n",
       "Created Date          0\n",
       "Closed Date           2\n",
       "Agency                0\n",
       "Agency Name           0\n",
       "Complaint Type        0\n",
       "Descriptor         1503\n",
       "Incident Zip          0\n",
       "City                  0\n",
       "Community Board       0\n",
       "Borough               0\n",
       "Latitude              0\n",
       "Longitude             0\n",
       "Location              0\n",
       "dtype: int64"
      ]
     },
     "execution_count": 5,
     "metadata": {},
     "output_type": "execute_result"
    }
   ],
   "source": [
    "#Drop NAs in several categories and print new null sums\n",
    "df = df.dropna(subset=['Latitude',\"Longitude\",\"Complaint Type\", \"Incident Zip\"], how='any')\n",
    "df.isnull().sum()"
   ]
  },
  {
   "cell_type": "code",
   "execution_count": 6,
   "metadata": {
    "collapsed": false
   },
   "outputs": [
    {
     "data": {
      "text/plain": [
       "dtype('O')"
      ]
     },
     "execution_count": 6,
     "metadata": {},
     "output_type": "execute_result"
    }
   ],
   "source": [
    "#Change incident_zip column datatype from float to str\n",
    "#to map with GeoJSON\n",
    "df['Incident Zip'] = df['Incident Zip'].astype(int)\n",
    "df['Incident Zip'] = df['Incident Zip'].astype(str)\n",
    "df['Incident Zip'].dtype"
   ]
  },
  {
   "cell_type": "code",
   "execution_count": 7,
   "metadata": {
    "collapsed": false
   },
   "outputs": [
    {
     "data": {
      "text/html": [
       "<div>\n",
       "<style>\n",
       "    .dataframe thead tr:only-child th {\n",
       "        text-align: right;\n",
       "    }\n",
       "\n",
       "    .dataframe thead th {\n",
       "        text-align: left;\n",
       "    }\n",
       "\n",
       "    .dataframe tbody tr th {\n",
       "        vertical-align: top;\n",
       "    }\n",
       "</style>\n",
       "<table border=\"1\" class=\"dataframe\">\n",
       "  <thead>\n",
       "    <tr style=\"text-align: right;\">\n",
       "      <th></th>\n",
       "      <th>unique_key</th>\n",
       "      <th>created_date</th>\n",
       "      <th>closed_date</th>\n",
       "      <th>agency</th>\n",
       "      <th>agency_name</th>\n",
       "      <th>complaint_type</th>\n",
       "      <th>descriptor</th>\n",
       "      <th>incident_zip</th>\n",
       "      <th>city</th>\n",
       "      <th>community_board</th>\n",
       "      <th>borough</th>\n",
       "      <th>latitude</th>\n",
       "      <th>longitude</th>\n",
       "      <th>location</th>\n",
       "    </tr>\n",
       "  </thead>\n",
       "  <tbody>\n",
       "    <tr>\n",
       "      <th>0</th>\n",
       "      <td>30748075</td>\n",
       "      <td>2015-06-01 14:38:25</td>\n",
       "      <td>2015-06-01 14:47:30</td>\n",
       "      <td>NYPD</td>\n",
       "      <td>New York City Police Department</td>\n",
       "      <td>Illegal Fireworks</td>\n",
       "      <td>NaN</td>\n",
       "      <td>10305</td>\n",
       "      <td>STATEN ISLAND</td>\n",
       "      <td>01 STATEN ISLAND</td>\n",
       "      <td>STATEN ISLAND</td>\n",
       "      <td>40.612589</td>\n",
       "      <td>-74.075683</td>\n",
       "      <td>(40.61258861162453, -74.07568315408508)</td>\n",
       "    </tr>\n",
       "    <tr>\n",
       "      <th>1</th>\n",
       "      <td>30762899</td>\n",
       "      <td>2015-06-03 23:54:54</td>\n",
       "      <td>2015-06-04 01:43:03</td>\n",
       "      <td>NYPD</td>\n",
       "      <td>New York City Police Department</td>\n",
       "      <td>Illegal Fireworks</td>\n",
       "      <td>NaN</td>\n",
       "      <td>11414</td>\n",
       "      <td>HOWARD BEACH</td>\n",
       "      <td>10 QUEENS</td>\n",
       "      <td>QUEENS</td>\n",
       "      <td>40.649413</td>\n",
       "      <td>-73.835472</td>\n",
       "      <td>(40.6494132503695, -73.83547217816559)</td>\n",
       "    </tr>\n",
       "    <tr>\n",
       "      <th>2</th>\n",
       "      <td>30771683</td>\n",
       "      <td>2015-06-04 20:37:59</td>\n",
       "      <td>2015-06-04 22:45:15</td>\n",
       "      <td>NYPD</td>\n",
       "      <td>New York City Police Department</td>\n",
       "      <td>Illegal Fireworks</td>\n",
       "      <td>NaN</td>\n",
       "      <td>10305</td>\n",
       "      <td>STATEN ISLAND</td>\n",
       "      <td>01 STATEN ISLAND</td>\n",
       "      <td>STATEN ISLAND</td>\n",
       "      <td>40.612589</td>\n",
       "      <td>-74.075683</td>\n",
       "      <td>(40.61258861162453, -74.07568315408508)</td>\n",
       "    </tr>\n",
       "    <tr>\n",
       "      <th>3</th>\n",
       "      <td>30771690</td>\n",
       "      <td>2015-06-05 00:22:08</td>\n",
       "      <td>2015-06-05 01:15:13</td>\n",
       "      <td>NYPD</td>\n",
       "      <td>New York City Police Department</td>\n",
       "      <td>Illegal Fireworks</td>\n",
       "      <td>NaN</td>\n",
       "      <td>10002</td>\n",
       "      <td>NEW YORK</td>\n",
       "      <td>03 MANHATTAN</td>\n",
       "      <td>MANHATTAN</td>\n",
       "      <td>40.715795</td>\n",
       "      <td>-73.990560</td>\n",
       "      <td>(40.7157948361671, -73.99055967847579)</td>\n",
       "    </tr>\n",
       "    <tr>\n",
       "      <th>4</th>\n",
       "      <td>30783483</td>\n",
       "      <td>2015-06-06 09:22:22</td>\n",
       "      <td>2015-06-06 09:50:29</td>\n",
       "      <td>NYPD</td>\n",
       "      <td>New York City Police Department</td>\n",
       "      <td>Illegal Fireworks</td>\n",
       "      <td>NaN</td>\n",
       "      <td>11204</td>\n",
       "      <td>BROOKLYN</td>\n",
       "      <td>11 BROOKLYN</td>\n",
       "      <td>BROOKLYN</td>\n",
       "      <td>40.616028</td>\n",
       "      <td>-73.998729</td>\n",
       "      <td>(40.61602804353828, -73.99872852393159)</td>\n",
       "    </tr>\n",
       "  </tbody>\n",
       "</table>\n",
       "</div>"
      ],
      "text/plain": [
       "   unique_key        created_date         closed_date agency  \\\n",
       "0    30748075 2015-06-01 14:38:25 2015-06-01 14:47:30   NYPD   \n",
       "1    30762899 2015-06-03 23:54:54 2015-06-04 01:43:03   NYPD   \n",
       "2    30771683 2015-06-04 20:37:59 2015-06-04 22:45:15   NYPD   \n",
       "3    30771690 2015-06-05 00:22:08 2015-06-05 01:15:13   NYPD   \n",
       "4    30783483 2015-06-06 09:22:22 2015-06-06 09:50:29   NYPD   \n",
       "\n",
       "                       agency_name     complaint_type descriptor incident_zip  \\\n",
       "0  New York City Police Department  Illegal Fireworks        NaN        10305   \n",
       "1  New York City Police Department  Illegal Fireworks        NaN        11414   \n",
       "2  New York City Police Department  Illegal Fireworks        NaN        10305   \n",
       "3  New York City Police Department  Illegal Fireworks        NaN        10002   \n",
       "4  New York City Police Department  Illegal Fireworks        NaN        11204   \n",
       "\n",
       "            city   community_board        borough   latitude  longitude  \\\n",
       "0  STATEN ISLAND  01 STATEN ISLAND  STATEN ISLAND  40.612589 -74.075683   \n",
       "1   HOWARD BEACH         10 QUEENS         QUEENS  40.649413 -73.835472   \n",
       "2  STATEN ISLAND  01 STATEN ISLAND  STATEN ISLAND  40.612589 -74.075683   \n",
       "3       NEW YORK      03 MANHATTAN      MANHATTAN  40.715795 -73.990560   \n",
       "4       BROOKLYN       11 BROOKLYN       BROOKLYN  40.616028 -73.998729   \n",
       "\n",
       "                                  location  \n",
       "0  (40.61258861162453, -74.07568315408508)  \n",
       "1   (40.6494132503695, -73.83547217816559)  \n",
       "2  (40.61258861162453, -74.07568315408508)  \n",
       "3   (40.7157948361671, -73.99055967847579)  \n",
       "4  (40.61602804353828, -73.99872852393159)  "
      ]
     },
     "execution_count": 7,
     "metadata": {},
     "output_type": "execute_result"
    }
   ],
   "source": [
    "#Cleaning column name syntax\n",
    "df.columns = ['unique_key','created_date', 'closed_date', 'agency', 'agency_name','complaint_type',\\\n",
    "                    'descriptor', 'incident_zip', 'city','community_board', 'borough', 'latitude', 'longitude',\\\n",
    "                    'location']\n",
    "df.head(5)"
   ]
  },
  {
   "cell_type": "code",
   "execution_count": 8,
   "metadata": {
    "collapsed": true
   },
   "outputs": [],
   "source": [
    "df.to_csv('cleaned_fireworks.csv')"
   ]
  },
  {
   "cell_type": "markdown",
   "metadata": {},
   "source": [
    "# Data analysis"
   ]
  },
  {
   "cell_type": "code",
   "execution_count": 9,
   "metadata": {
    "collapsed": false
   },
   "outputs": [
    {
     "data": {
      "image/png": "[encoded data removed]",
      "text/plain": [
       "<matplotlib.figure.Figure at 0x109854090>"
      ]
     },
     "metadata": {},
     "output_type": "display_data"
    }
   ],
   "source": [
    "#count by borough\n",
    "agency_count = sns.countplot(x=\"borough\", data=df)"
   ]
  },
  {
   "cell_type": "code",
   "execution_count": 10,
   "metadata": {
    "collapsed": false
   },
   "outputs": [
    {
     "data": {
      "text/html": [
       "\n",
       "\n",
       "    <div class=\"bk-root\">\n",
       "        <div class=\"bk-plotdiv\" id=\"63636c9c-4653-4688-ad33-30be1dc615f2\"></div>\n",
       "    </div>\n",
       "<script type=\"text/javascript\">\n",
       "  \n",
       "  (function(global) {\n",
       "    function now() {\n",
       "      return new Date();\n",
       "    }\n",
       "  \n",
       "    var force = false;\n",
       "  \n",
       "    if (typeof (window._bokeh_onload_callbacks) === \"undefined\" || force === true) {\n",
       "      window._bokeh_onload_callbacks = [];\n",
       "      window._bokeh_is_loading = undefined;\n",
       "    }\n",
       "  \n",
       "  \n",
       "    \n",
       "    if (typeof (window._bokeh_timeout) === \"undefined\" || force === true) {\n",
       "      window._bokeh_timeout = Date.now() + 0;\n",
       "      window._bokeh_failed_load = false;\n",
       "    }\n",
       "  \n",
       "    var NB_LOAD_WARNING = {'data': {'text/html':\n",
       "       \"<div style='background-color: #fdd'>\\n\"+\n",
       "       \"<p>\\n\"+\n",
       "       \"BokehJS does not appear to have successfully loaded. If loading BokehJS from CDN, this \\n\"+\n",
       "       \"may be due to a slow or bad network connection. Possible fixes:\\n\"+\n",
       "       \"</p>\\n\"+\n",
       "       \"<ul>\\n\"+\n",
       "       \"<li>re-rerun `output_notebook()` to attempt to load from CDN again, or</li>\\n\"+\n",
       "       \"<li>use INLINE resources instead, as so:</li>\\n\"+\n",
       "       \"</ul>\\n\"+\n",
       "       \"<code>\\n\"+\n",
       "       \"from bokeh.resources import INLINE\\n\"+\n",
       "       \"output_notebook(resources=INLINE)\\n\"+\n",
       "       \"</code>\\n\"+\n",
       "       \"</div>\"}};\n",
       "  \n",
       "    function display_loaded() {\n",
       "      if (window.Bokeh !== undefined) {\n",
       "        var el = document.getElementById(\"63636c9c-4653-4688-ad33-30be1dc615f2\");\n",
       "        el.textContent = \"BokehJS \" + Bokeh.version + \" successfully loaded.\";\n",
       "      } else if (Date.now() < window._bokeh_timeout) {\n",
       "        setTimeout(display_loaded, 100)\n",
       "      }\n",
       "    }if ((window.Jupyter !== undefined) && Jupyter.notebook.kernel) {\n",
       "      comm_manager = Jupyter.notebook.kernel.comm_manager\n",
       "      comm_manager.register_target(\"3c4156bb-cc2f-45ef-a8d0-996e04ee97e6\", function () {});\n",
       "    }\n",
       "  \n",
       "    function run_callbacks() {\n",
       "      try {\n",
       "        window._bokeh_onload_callbacks.forEach(function(callback) { callback() });\n",
       "      }\n",
       "      finally {\n",
       "        delete window._bokeh_onload_callbacks\n",
       "      }\n",
       "      console.info(\"Bokeh: all callbacks have finished\");\n",
       "    }\n",
       "  \n",
       "    function load_libs(js_urls, callback) {\n",
       "      window._bokeh_onload_callbacks.push(callback);\n",
       "      if (window._bokeh_is_loading > 0) {\n",
       "        console.log(\"Bokeh: BokehJS is being loaded, scheduling callback at\", now());\n",
       "        return null;\n",
       "      }\n",
       "      if (js_urls == null || js_urls.length === 0) {\n",
       "        run_callbacks();\n",
       "        return null;\n",
       "      }\n",
       "      console.log(\"Bokeh: BokehJS not loaded, scheduling load and callback at\", now());\n",
       "      window._bokeh_is_loading = js_urls.length;\n",
       "      for (var i = 0; i < js_urls.length; i++) {\n",
       "        var url = js_urls[i];\n",
       "        var s = document.createElement('script');\n",
       "        s.src = url;\n",
       "        s.async = false;\n",
       "        s.onreadystatechange = s.onload = function() {\n",
       "          window._bokeh_is_loading--;\n",
       "          if (window._bokeh_is_loading === 0) {\n",
       "            console.log(\"Bokeh: all BokehJS libraries loaded\");\n",
       "            run_callbacks()\n",
       "          }\n",
       "        };\n",
       "        s.onerror = function() {\n",
       "          console.warn(\"failed to load library \" + url);\n",
       "        };\n",
       "        console.log(\"Bokeh: injecting script tag for BokehJS library: \", url);\n",
       "        document.getElementsByTagName(\"head\")[0].appendChild(s);\n",
       "      }\n",
       "    };var element = document.getElementById(\"63636c9c-4653-4688-ad33-30be1dc615f2\");\n",
       "    if (element == null) {\n",
       "      console.log(\"Bokeh: ERROR: autoload.js configured with elementid '63636c9c-4653-4688-ad33-30be1dc615f2' but no matching script tag was found. \")\n",
       "      return false;\n",
       "    }\n",
       "  \n",
       "    var js_urls = [];\n",
       "  \n",
       "    var inline_js = [\n",
       "      function(Bokeh) {\n",
       "        (function() {\n",
       "          var fn = function() {\n",
       "            var docs_json = {\"7bab4e7c-0575-4484-9429-3704318ebbac\":{\"roots\":{\"references\":[{\"attributes\":{\"callback\":null,\"column_names\":[\"line_color\",\"line_alpha\",\"color\",\"fill_alpha\",\"height\",\"width\",\"y\",\"x\",\"label\"],\"data\":{\"chart_index\":[\"(2.375000, 2.546875]\"],\"color\":[\"#f22c40\"],\"fill_alpha\":[0.8],\"height\":[0.0],\"label\":[\"(2.375000, 2.546875]\"],\"line_alpha\":[1.0],\"line_color\":[\"black\"],\"width\":[0.171875],\"x\":[\"2.4609375\"],\"y\":[0.0]}},\"id\":\"aed5b3b5-0ab6-4f26-a722-a3c1e0e583f8\",\"type\":\"ColumnDataSource\"},{\"attributes\":{\"fill_alpha\":{\"field\":\"fill_alpha\"},\"fill_color\":{\"field\":\"color\"},\"height\":{\"field\":\"height\",\"units\":\"data\"},\"line_color\":{\"field\":\"line_color\"},\"width\":{\"field\":\"width\",\"units\":\"data\"},\"x\":{\"field\":\"x\"},\"y\":{\"field\":\"y\"}},\"id\":\"bd5c4cba-f5dc-4b09-95d7-af4ca8a3b09d\",\"type\":\"Rect\"},{\"attributes\":{\"fill_alpha\":{\"field\":\"fill_alpha\"},\"fill_color\":{\"field\":\"color\"},\"height\":{\"field\":\"height\",\"units\":\"data\"},\"line_color\":{\"field\":\"line_color\"},\"width\":{\"field\":\"width\",\"units\":\"data\"},\"x\":{\"field\":\"x\"},\"y\":{\"field\":\"y\"}},\"id\":\"e4312391-11ab-46f6-89b2-3afedf45728d\",\"type\":\"Rect\"},{\"attributes\":{\"data_source\":{\"id\":\"8de9dcdb-1362-4509-9df4-c71d2d5890b6\",\"type\":\"ColumnDataSource\"},\"glyph\":{\"id\":\"092fb9dc-b058-41f4-8a5d-e30daa5312f3\",\"type\":\"Rect\"},\"hover_glyph\":null,\"muted_glyph\":null},\"id\":\"c1f5ccaf-b09f-4107-847e-8e3ad8af96ad\",\"type\":\"GlyphRenderer\"},{\"attributes\":{\"fill_alpha\":{\"field\":\"fill_alpha\"},\"fill_color\":{\"field\":\"color\"},\"height\":{\"field\":\"height\",\"units\":\"data\"},\"line_color\":{\"field\":\"line_color\"},\"width\":{\"field\":\"width\",\"units\":\"data\"},\"x\":{\"field\":\"x\"},\"y\":{\"field\":\"y\"}},\"id\":\"092fb9dc-b058-41f4-8a5d-e30daa5312f3\",\"type\":\"Rect\"},{\"attributes\":{\"callback\":null,\"column_names\":[\"line_color\",\"line_alpha\",\"color\",\"fill_alpha\",\"height\",\"width\",\"y\",\"x\",\"label\"],\"data\":{\"chart_index\":[\"(7.359375, 7.531250]\"],\"color\":[\"#f22c40\"],\"fill_alpha\":[0.8],\"height\":[0.0],\"label\":[\"(7.359375, 7.531250]\"],\"line_alpha\":[1.0],\"line_color\":[\"black\"],\"width\":[0.171875],\"x\":[\"7.4453125\"],\"y\":[0.0]}},\"id\":\"6afa4695-4807-4037-8afc-83fa5282652b\",\"type\":\"ColumnDataSource\"},{\"attributes\":{\"callback\":null,\"column_names\":[\"line_color\",\"line_alpha\",\"color\",\"fill_alpha\",\"height\",\"width\",\"y\",\"x\",\"label\"],\"data\":{\"chart_index\":[\"(2.718750, 2.890625]\"],\"color\":[\"#f22c40\"],\"fill_alpha\":[0.8],\"height\":[0.0],\"label\":[\"(2.718750, 2.890625]\"],\"line_alpha\":[1.0],\"line_color\":[\"black\"],\"width\":[0.171875],\"x\":[\"2.8046875\"],\"y\":[0.0]}},\"id\":\"b76b07ce-aca1-4067-b496-d5e093f43d31\",\"type\":\"ColumnDataSource\"},{\"attributes\":{\"callback\":null,\"column_names\":[\"line_color\",\"line_alpha\",\"color\",\"fill_alpha\",\"height\",\"width\",\"y\",\"x\",\"label\"],\"data\":{\"chart_index\":[\"(1.859375, 2.031250]\"],\"color\":[\"#f22c40\"],\"fill_alpha\":[0.8],\"height\":[11.0],\"label\":[\"(1.859375, 2.031250]\"],\"line_alpha\":[1.0],\"line_color\":[\"black\"],\"width\":[0.171875],\"x\":[\"1.9453125\"],\"y\":[5.5]}},\"id\":\"4196b147-46de-4193-b14b-45da775b94a8\",\"type\":\"ColumnDataSource\"},{\"attributes\":{\"callback\":null,\"column_names\":[\"line_color\",\"line_alpha\",\"color\",\"fill_alpha\",\"height\",\"width\",\"y\",\"x\",\"label\"],\"data\":{\"chart_index\":[\"(10.625000, 10.796875]\"],\"color\":[\"#f22c40\"],\"fill_alpha\":[0.8],\"height\":[0.0],\"label\":[\"(10.625000, 10.796875]\"],\"line_alpha\":[1.0],\"line_color\":[\"black\"],\"width\":[0.171875],\"x\":[\"10.7109375\"],\"y\":[0.0]}},\"id\":\"2071c0a7-8bce-411a-938e-0466c8972d56\",\"type\":\"ColumnDataSource\"},{\"attributes\":{\"location\":\"top_left\",\"plot\":{\"id\":\"dba8914e-668e-426f-8d1b-362dfe0281c1\",\"subtype\":\"Chart\",\"type\":\"Plot\"}},\"id\":\"dcf5ec84-db14-4ce0-99de-e58559329320\",\"type\":\"Legend\"},{\"attributes\":{\"dimension\":1,\"plot\":{\"id\":\"dba8914e-668e-426f-8d1b-362dfe0281c1\",\"subtype\":\"Chart\",\"type\":\"Plot\"},\"ticker\":{\"id\":\"0328adee-77d1-4e7b-bfe4-4fe1757d985c\",\"type\":\"BasicTicker\"}},\"id\":\"3234a469-6e75-4554-a308-c805b41cb4ba\",\"type\":\"Grid\"},{\"attributes\":{\"callback\":null,\"column_names\":[\"line_color\",\"line_alpha\",\"color\",\"fill_alpha\",\"height\",\"width\",\"y\",\"x\",\"label\"],\"data\":{\"chart_index\":[\"(9.250000, 9.421875]\"],\"color\":[\"#f22c40\"],\"fill_alpha\":[0.8],\"height\":[0.0],\"label\":[\"(9.250000, 9.421875]\"],\"line_alpha\":[1.0],\"line_color\":[\"black\"],\"width\":[0.171875],\"x\":[\"9.3359375\"],\"y\":[0.0]}},\"id\":\"536121bc-68af-4413-9735-9225f4da6e70\",\"type\":\"ColumnDataSource\"},{\"attributes\":{\"data_source\":{\"id\":\"fac6760d-c1e4-42e5-b0cd-e9b0addb72e4\",\"type\":\"ColumnDataSource\"},\"glyph\":{\"id\":\"11113e65-5c46-48db-8033-d12295fd41c1\",\"type\":\"Rect\"},\"hover_glyph\":null,\"muted_glyph\":null},\"id\":\"364cbb54-745e-4f37-be5c-4f84663726cc\",\"type\":\"GlyphRenderer\"},{\"attributes\":{\"data_source\":{\"id\":\"13645093-1631-4928-b45b-8e003a734c1d\",\"type\":\"ColumnDataSource\"},\"glyph\":{\"id\":\"272c45b6-486e-496b-afc9-c6cd85a73d37\",\"type\":\"Rect\"},\"hover_glyph\":null,\"muted_glyph\":null},\"id\":\"2bf947a6-a2af-467c-922b-7cf888546196\",\"type\":\"GlyphRenderer\"},{\"attributes\":{\"fill_alpha\":{\"field\":\"fill_alpha\"},\"fill_color\":{\"field\":\"color\"},\"height\":{\"field\":\"height\",\"units\":\"data\"},\"line_color\":{\"field\":\"line_color\"},\"width\":{\"field\":\"width\",\"units\":\"data\"},\"x\":{\"field\":\"x\"},\"y\":{\"field\":\"y\"}},\"id\":\"c797f630-5456-4d81-9bcb-1fdd3e3a6a7c\",\"type\":\"Rect\"},{\"attributes\":{\"fill_alpha\":{\"field\":\"fill_alpha\"},\"fill_color\":{\"field\":\"color\"},\"height\":{\"field\":\"height\",\"units\":\"data\"},\"line_color\":{\"field\":\"line_color\"},\"width\":{\"field\":\"width\",\"units\":\"data\"},\"x\":{\"field\":\"x\"},\"y\":{\"field\":\"y\"}},\"id\":\"18a6c97a-1430-4746-8798-d9c55cd6e9b1\",\"type\":\"Rect\"},{\"attributes\":{\"fill_alpha\":{\"field\":\"fill_alpha\"},\"fill_color\":{\"field\":\"color\"},\"height\":{\"field\":\"height\",\"units\":\"data\"},\"line_color\":{\"field\":\"line_color\"},\"width\":{\"field\":\"width\",\"units\":\"data\"},\"x\":{\"field\":\"x\"},\"y\":{\"field\":\"y\"}},\"id\":\"bef3ac98-0e57-4ce4-b889-ea40d5c7f046\",\"type\":\"Rect\"},{\"attributes\":{\"data_source\":{\"id\":\"95445231-748b-48fe-8350-b071dad02b81\",\"type\":\"ColumnDataSource\"},\"glyph\":{\"id\":\"9c9c3d9f-8b86-4ff9-9496-295dafc79b0a\",\"type\":\"Rect\"},\"hover_glyph\":null,\"muted_glyph\":null},\"id\":\"87a378c0-97ae-4619-9b25-175de91d8ed3\",\"type\":\"GlyphRenderer\"},{\"attributes\":{\"callback\":null,\"column_names\":[\"line_color\",\"line_alpha\",\"color\",\"fill_alpha\",\"height\",\"width\",\"y\",\"x\",\"label\"],\"data\":{\"chart_index\":[\"(4.609375, 4.781250]\"],\"color\":[\"#f22c40\"],\"fill_alpha\":[0.8],\"height\":[0.0],\"label\":[\"(4.609375, 4.781250]\"],\"line_alpha\":[1.0],\"line_color\":[\"black\"],\"width\":[0.171875],\"x\":[\"4.6953125\"],\"y\":[0.0]}},\"id\":\"75d6a8d1-fb59-45c3-81fb-f770b331623c\",\"type\":\"ColumnDataSource\"},{\"attributes\":{\"callback\":null,\"column_names\":[\"line_color\",\"line_alpha\",\"color\",\"fill_alpha\",\"height\",\"width\",\"y\",\"x\",\"label\"],\"data\":{\"chart_index\":[\"(11.484375, 11.656250]\"],\"color\":[\"#f22c40\"],\"fill_alpha\":[0.8],\"height\":[0.0],\"label\":[\"(11.484375, 11.656250]\"],\"line_alpha\":[1.0],\"line_color\":[\"black\"],\"width\":[0.171875],\"x\":[\"11.5703125\"],\"y\":[0.0]}},\"id\":\"0e7aa536-9531-41f1-b289-86f35cd04534\",\"type\":\"ColumnDataSource\"},{\"attributes\":{\"fill_alpha\":{\"field\":\"fill_alpha\"},\"fill_color\":{\"field\":\"color\"},\"height\":{\"field\":\"height\",\"units\":\"data\"},\"line_color\":{\"field\":\"line_color\"},\"width\":{\"field\":\"width\",\"units\":\"data\"},\"x\":{\"field\":\"x\"},\"y\":{\"field\":\"y\"}},\"id\":\"5ad96668-bf3c-448a-855f-c226e27782b0\",\"type\":\"Rect\"},{\"attributes\":{\"plot\":{\"id\":\"dba8914e-668e-426f-8d1b-362dfe0281c1\",\"subtype\":\"Chart\",\"type\":\"Plot\"}},\"id\":\"f4fc7722-3875-4c97-af7f-a28e54d9af86\",\"type\":\"PanTool\"},{\"attributes\":{\"fill_alpha\":{\"field\":\"fill_alpha\"},\"fill_color\":{\"field\":\"color\"},\"height\":{\"field\":\"height\",\"units\":\"data\"},\"line_color\":{\"field\":\"line_color\"},\"width\":{\"field\":\"width\",\"units\":\"data\"},\"x\":{\"field\":\"x\"},\"y\":{\"field\":\"y\"}},\"id\":\"cbd3cab3-b263-4baf-a951-b56ae6cae8df\",\"type\":\"Rect\"},{\"attributes\":{\"overlay\":{\"id\":\"f2b53f14-eefe-442d-b3ba-25ff988d59d1\",\"type\":\"BoxAnnotation\"},\"plot\":{\"id\":\"dba8914e-668e-426f-8d1b-362dfe0281c1\",\"subtype\":\"Chart\",\"type\":\"Plot\"}},\"id\":\"3b3c89bf-f361-4364-aa1f-20508387265c\",\"type\":\"BoxZoomTool\"},{\"attributes\":{},\"id\":\"0328adee-77d1-4e7b-bfe4-4fe1757d985c\",\"type\":\"BasicTicker\"},{\"attributes\":{\"data_source\":{\"id\":\"bc5a19f2-a8e4-4010-ba60-c20049a2dac0\",\"type\":\"ColumnDataSource\"},\"glyph\":{\"id\":\"ce469129-ea99-4f1e-8bd7-5043317336a9\",\"type\":\"Rect\"},\"hover_glyph\":null,\"muted_glyph\":null},\"id\":\"1494b316-a90b-4cea-829d-df9d4b5b54c0\",\"type\":\"GlyphRenderer\"},{\"attributes\":{\"callback\":null,\"column_names\":[\"line_color\",\"line_alpha\",\"color\",\"fill_alpha\",\"height\",\"width\",\"y\",\"x\",\"label\"],\"data\":{\"chart_index\":[\"(10.109375, 10.281250]\"],\"color\":[\"#f22c40\"],\"fill_alpha\":[0.8],\"height\":[0.0],\"label\":[\"(10.109375, 10.281250]\"],\"line_alpha\":[1.0],\"line_color\":[\"black\"],\"width\":[0.171875],\"x\":[\"10.1953125\"],\"y\":[0.0]}},\"id\":\"2af34b1d-980c-42db-b348-db766dc938fc\",\"type\":\"ColumnDataSource\"},{\"attributes\":{\"fill_alpha\":{\"field\":\"fill_alpha\"},\"fill_color\":{\"field\":\"color\"},\"height\":{\"field\":\"height\",\"units\":\"data\"},\"line_color\":{\"field\":\"line_color\"},\"width\":{\"field\":\"width\",\"units\":\"data\"},\"x\":{\"field\":\"x\"},\"y\":{\"field\":\"y\"}},\"id\":\"5be9e2b4-3355-4123-abd8-4641f6bfb9fe\",\"type\":\"Rect\"},{\"attributes\":{\"callback\":null,\"column_names\":[\"line_color\",\"line_alpha\",\"color\",\"fill_alpha\",\"height\",\"width\",\"y\",\"x\",\"label\"],\"data\":{\"chart_index\":[\"(4.953125, 5.125000]\"],\"color\":[\"#f22c40\"],\"fill_alpha\":[0.8],\"height\":[80.0],\"label\":[\"(4.953125, 5.125000]\"],\"line_alpha\":[1.0],\"line_color\":[\"black\"],\"width\":[0.171875],\"x\":[\"5.0390625\"],\"y\":[40.0]}},\"id\":\"2e294146-ae0b-49fd-b720-4608d5511176\",\"type\":\"ColumnDataSource\"},{\"attributes\":{\"data_source\":{\"id\":\"6afa4695-4807-4037-8afc-83fa5282652b\",\"type\":\"ColumnDataSource\"},\"glyph\":{\"id\":\"ef8a69f1-9da7-4c0e-b49d-93c778c4f195\",\"type\":\"Rect\"},\"hover_glyph\":null,\"muted_glyph\":null},\"id\":\"e8fa1f66-d27c-4496-8e60-65ab668c0b70\",\"type\":\"GlyphRenderer\"},{\"attributes\":{\"data_source\":{\"id\":\"2e294146-ae0b-49fd-b720-4608d5511176\",\"type\":\"ColumnDataSource\"},\"glyph\":{\"id\":\"bd5c4cba-f5dc-4b09-95d7-af4ca8a3b09d\",\"type\":\"Rect\"},\"hover_glyph\":null,\"muted_glyph\":null},\"id\":\"71d87353-e1ac-4ed6-a4e9-abdcb158f8ea\",\"type\":\"GlyphRenderer\"},{\"attributes\":{\"fill_alpha\":{\"field\":\"fill_alpha\"},\"fill_color\":{\"field\":\"color\"},\"height\":{\"field\":\"height\",\"units\":\"data\"},\"line_color\":{\"field\":\"line_color\"},\"width\":{\"field\":\"width\",\"units\":\"data\"},\"x\":{\"field\":\"x\"},\"y\":{\"field\":\"y\"}},\"id\":\"438d918d-5163-4145-83ea-3298e1d2417e\",\"type\":\"Rect\"},{\"attributes\":{\"data_source\":{\"id\":\"0e7aa536-9531-41f1-b289-86f35cd04534\",\"type\":\"ColumnDataSource\"},\"glyph\":{\"id\":\"2ad83d97-7b65-4332-a9ad-5383c370543d\",\"type\":\"Rect\"},\"hover_glyph\":null,\"muted_glyph\":null},\"id\":\"2cc36f9a-4358-422a-89d8-9b8eb9865996\",\"type\":\"GlyphRenderer\"},{\"attributes\":{\"plot\":{\"id\":\"dba8914e-668e-426f-8d1b-362dfe0281c1\",\"subtype\":\"Chart\",\"type\":\"Plot\"}},\"id\":\"04c4dd2e-621f-43e7-a8ce-d627ff983198\",\"type\":\"WheelZoomTool\"},{\"attributes\":{\"callback\":null,\"column_names\":[\"line_color\",\"line_alpha\",\"color\",\"fill_alpha\",\"height\",\"width\",\"y\",\"x\",\"label\"],\"data\":{\"chart_index\":[\"(7.187500, 7.359375]\"],\"color\":[\"#f22c40\"],\"fill_alpha\":[0.8],\"height\":[0.0],\"label\":[\"(7.187500, 7.359375]\"],\"line_alpha\":[1.0],\"line_color\":[\"black\"],\"width\":[0.171875],\"x\":[\"7.2734375\"],\"y\":[0.0]}},\"id\":\"986750df-3ebb-4d0b-8107-3f1af11e5af8\",\"type\":\"ColumnDataSource\"},{\"attributes\":{\"callback\":null,\"end\":756.8000000000001},\"id\":\"b7d07a1d-58ee-4c85-a09d-7ea37379f53c\",\"type\":\"Range1d\"},{\"attributes\":{\"below\":[{\"id\":\"48185192-7a63-405f-a271-ec7f6257aa48\",\"type\":\"LinearAxis\"}],\"css_classes\":null,\"left\":[{\"id\":\"e28899d2-428c-499e-b132-053dfbb4e2ee\",\"type\":\"LinearAxis\"}],\"renderers\":[{\"id\":\"f2b53f14-eefe-442d-b3ba-25ff988d59d1\",\"type\":\"BoxAnnotation\"},{\"id\":\"2cbcfa58-0c84-4d46-95c5-945cb18a9719\",\"type\":\"GlyphRenderer\"},{\"id\":\"1c154cf0-2dd8-4d57-918d-8d4f2c50f6b4\",\"type\":\"GlyphRenderer\"},{\"id\":\"8764c340-58e7-4d24-87a7-36b78cfbfd29\",\"type\":\"GlyphRenderer\"},{\"id\":\"486cb8c5-dfd9-42b1-b413-23d6818fd755\",\"type\":\"GlyphRenderer\"},{\"id\":\"3d35947f-3283-4497-bf75-27d25dc8cf93\",\"type\":\"GlyphRenderer\"},{\"id\":\"7b3999d0-558f-4dc4-ba00-11a6cf0baf72\",\"type\":\"GlyphRenderer\"},{\"id\":\"c9ffe09d-bd81-4d04-a1b9-bb22a677c065\",\"type\":\"GlyphRenderer\"},{\"id\":\"1494b316-a90b-4cea-829d-df9d4b5b54c0\",\"type\":\"GlyphRenderer\"},{\"id\":\"25221880-ff4b-4448-886c-c60b30dadae9\",\"type\":\"GlyphRenderer\"},{\"id\":\"891c5980-8a4b-405a-a59d-9d2184b6921a\",\"type\":\"GlyphRenderer\"},{\"id\":\"6810a221-34ff-4767-bb98-b023860caa3f\",\"type\":\"GlyphRenderer\"},{\"id\":\"9c0aadbe-294e-45cc-bd0b-39ad4959d2e3\",\"type\":\"GlyphRenderer\"},{\"id\":\"98434e93-52da-408b-8d06-007c525f61c9\",\"type\":\"GlyphRenderer\"},{\"id\":\"9cee5a46-d13c-4776-9b4b-d66f962dee9c\",\"type\":\"GlyphRenderer\"},{\"id\":\"364cbb54-745e-4f37-be5c-4f84663726cc\",\"type\":\"GlyphRenderer\"},{\"id\":\"4f373cb8-ee7b-49ec-86c3-745f8bd17c1c\",\"type\":\"GlyphRenderer\"},{\"id\":\"be22906b-2fb9-429f-9d9c-b6cbc828c74b\",\"type\":\"GlyphRenderer\"},{\"id\":\"2371819a-660c-4fe1-b347-b8128a553795\",\"type\":\"GlyphRenderer\"},{\"id\":\"38966d20-65e4-457f-ae1e-835c6039f343\",\"type\":\"GlyphRenderer\"},{\"id\":\"fe035d83-af6a-4c8a-9766-f70815d8f0aa\",\"type\":\"GlyphRenderer\"},{\"id\":\"9b3ed83d-c90b-46a3-8806-af4aaa650f26\",\"type\":\"GlyphRenderer\"},{\"id\":\"875d493b-3d80-4040-a331-c2d96b2559f9\",\"type\":\"GlyphRenderer\"},{\"id\":\"9d0d2fd3-b47b-4ead-83fa-1f51bde2d424\",\"type\":\"GlyphRenderer\"},{\"id\":\"71d87353-e1ac-4ed6-a4e9-abdcb158f8ea\",\"type\":\"GlyphRenderer\"},{\"id\":\"4b2b0fa6-5992-4cd4-ad2c-64bcb17c2662\",\"type\":\"GlyphRenderer\"},{\"id\":\"9d8fc553-5386-4b0a-b77a-076e3622b252\",\"type\":\"GlyphRenderer\"},{\"id\":\"045711b6-de40-4b8a-bfb4-08b85a4163b0\",\"type\":\"GlyphRenderer\"},{\"id\":\"afb31089-094b-4a88-bab7-456dd5af6f15\",\"type\":\"GlyphRenderer\"},{\"id\":\"d59750ad-f980-4c75-8c75-c305c57773ef\",\"type\":\"GlyphRenderer\"},{\"id\":\"87a378c0-97ae-4619-9b25-175de91d8ed3\",\"type\":\"GlyphRenderer\"},{\"id\":\"6944def9-8eb5-4a2f-9117-dfdbf80cc4ca\",\"type\":\"GlyphRenderer\"},{\"id\":\"9f1fc981-2d28-4a87-905b-41f30bb17041\",\"type\":\"GlyphRenderer\"},{\"id\":\"f579ad84-acc0-4f4a-9484-fbb7406fc106\",\"type\":\"GlyphRenderer\"},{\"id\":\"65368108-2238-4c90-a35b-cbdd04abc32b\",\"type\":\"GlyphRenderer\"},{\"id\":\"dbc6bfe0-7061-40ba-9ef5-d88187e811a4\",\"type\":\"GlyphRenderer\"},{\"id\":\"fe736219-1b6e-4c6c-941e-a4fa1bc05131\",\"type\":\"GlyphRenderer\"},{\"id\":\"81d3292a-7d93-4629-87d6-4dba04736713\",\"type\":\"GlyphRenderer\"},{\"id\":\"e8fa1f66-d27c-4496-8e60-65ab668c0b70\",\"type\":\"GlyphRenderer\"},{\"id\":\"2a896b5e-5703-493d-bb18-ff66c402c0d4\",\"type\":\"GlyphRenderer\"},{\"id\":\"8d4a5d28-2ab4-402a-8a48-7c807468cb36\",\"type\":\"GlyphRenderer\"},{\"id\":\"7421a002-da6c-489c-b827-85bf1362c37c\",\"type\":\"GlyphRenderer\"},{\"id\":\"676be7c1-e0f2-4ba3-8d01-5c88de481507\",\"type\":\"GlyphRenderer\"},{\"id\":\"59557c1a-6ec3-40c6-908d-b9ff5d7f530c\",\"type\":\"GlyphRenderer\"},{\"id\":\"a2074c23-8220-453b-9359-b265ba1af4bb\",\"type\":\"GlyphRenderer\"},{\"id\":\"0752db45-1fb9-425c-8e1e-8ec15ca70235\",\"type\":\"GlyphRenderer\"},{\"id\":\"c1f5ccaf-b09f-4107-847e-8e3ad8af96ad\",\"type\":\"GlyphRenderer\"},{\"id\":\"4f59977b-2611-4c81-a059-873651b69bd2\",\"type\":\"GlyphRenderer\"},{\"id\":\"2bf947a6-a2af-467c-922b-7cf888546196\",\"type\":\"GlyphRenderer\"},{\"id\":\"a1229b9f-62d3-4a45-8b1c-09a81575e96e\",\"type\":\"GlyphRenderer\"},{\"id\":\"5e6d5ba5-1f4f-4039-a57b-2a6735c1a3e1\",\"type\":\"GlyphRenderer\"},{\"id\":\"768ab330-5048-4021-9362-6dd94ad33b06\",\"type\":\"GlyphRenderer\"},{\"id\":\"ac723a84-c57c-4779-a5e5-407ed325f837\",\"type\":\"GlyphRenderer\"},{\"id\":\"91ca931f-c3f7-4792-8ebb-11ce4ed2fcc5\",\"type\":\"GlyphRenderer\"},{\"id\":\"00eba594-9ea9-417d-81b6-19705426f34d\",\"type\":\"GlyphRenderer\"},{\"id\":\"d1bb4724-fb53-473f-baa7-02390039c732\",\"type\":\"GlyphRenderer\"},{\"id\":\"743de06a-d54a-4ac5-8b75-2dde0c9ecdf4\",\"type\":\"GlyphRenderer\"},{\"id\":\"249b7746-be55-4aa6-9dd0-cdc9f7195484\",\"type\":\"GlyphRenderer\"},{\"id\":\"b7ca291c-495d-49ea-becf-c864c7c3dd04\",\"type\":\"GlyphRenderer\"},{\"id\":\"dbe55766-2a92-446d-9c88-4296d27a9b44\",\"type\":\"GlyphRenderer\"},{\"id\":\"acb6fe65-3155-4136-a4e7-a46191a01535\",\"type\":\"GlyphRenderer\"},{\"id\":\"d3a0e2d7-4d6d-41b1-8599-44caf29fa5c1\",\"type\":\"GlyphRenderer\"},{\"id\":\"2cc36f9a-4358-422a-89d8-9b8eb9865996\",\"type\":\"GlyphRenderer\"},{\"id\":\"4fcb77aa-dbdd-4df0-b92d-48aa987c69ee\",\"type\":\"GlyphRenderer\"},{\"id\":\"57ebbc99-5791-4cd4-913e-a2ff48986f74\",\"type\":\"GlyphRenderer\"},{\"id\":\"dcf5ec84-db14-4ce0-99de-e58559329320\",\"type\":\"Legend\"},{\"id\":\"48185192-7a63-405f-a271-ec7f6257aa48\",\"type\":\"LinearAxis\"},{\"id\":\"e28899d2-428c-499e-b132-053dfbb4e2ee\",\"type\":\"LinearAxis\"},{\"id\":\"3234a469-6e75-4554-a308-c805b41cb4ba\",\"type\":\"Grid\"}],\"title\":{\"id\":\"683bd4ea-2c3a-433a-8b26-a890f22996de\",\"type\":\"Title\"},\"tool_events\":{\"id\":\"b137635e-7a7b-4f5b-acde-4f039287da19\",\"type\":\"ToolEvents\"},\"toolbar\":{\"id\":\"7107a2c2-0fd3-44b1-ad67-542e1e4302d7\",\"type\":\"Toolbar\"},\"x_range\":{\"id\":\"67410be6-bba5-4f0b-a1d9-1d4c951dcc98\",\"type\":\"Range1d\"},\"x_scale\":{\"id\":\"64693b09-4ecc-4223-ba7b-231174ac3abd\",\"type\":\"LinearScale\"},\"y_range\":{\"id\":\"b7d07a1d-58ee-4c85-a09d-7ea37379f53c\",\"type\":\"Range1d\"},\"y_scale\":{\"id\":\"d80271e7-4207-490f-86c3-1d8e8c7b42ee\",\"type\":\"LinearScale\"}},\"id\":\"dba8914e-668e-426f-8d1b-362dfe0281c1\",\"subtype\":\"Chart\",\"type\":\"Plot\"},{\"attributes\":{\"data_source\":{\"id\":\"ce256b9f-15ec-4496-b61f-fce8b99284c0\",\"type\":\"ColumnDataSource\"},\"glyph\":{\"id\":\"72b21773-18fb-4728-9757-047995e6e444\",\"type\":\"Rect\"},\"hover_glyph\":null,\"muted_glyph\":null},\"id\":\"d59750ad-f980-4c75-8c75-c305c57773ef\",\"type\":\"GlyphRenderer\"},{\"attributes\":{\"callback\":null,\"column_names\":[\"line_color\",\"line_alpha\",\"color\",\"fill_alpha\",\"height\",\"width\",\"y\",\"x\",\"label\"],\"data\":{\"chart_index\":[\"(7.875000, 8.046875]\"],\"color\":[\"#f22c40\"],\"fill_alpha\":[0.8],\"height\":[93.0],\"label\":[\"(7.875000, 8.046875]\"],\"line_alpha\":[1.0],\"line_color\":[\"black\"],\"width\":[0.171875],\"x\":[\"7.9609375\"],\"y\":[46.5]}},\"id\":\"bfeab837-bbf3-4951-bc5e-d25a2fd72982\",\"type\":\"ColumnDataSource\"},{\"attributes\":{\"callback\":null,\"column_names\":[\"line_color\",\"line_alpha\",\"color\",\"fill_alpha\",\"height\",\"width\",\"y\",\"x\",\"label\"],\"data\":{\"chart_index\":[\"(1.171875, 1.343750]\"],\"color\":[\"#f22c40\"],\"fill_alpha\":[0.8],\"height\":[0.0],\"label\":[\"(1.171875, 1.343750]\"],\"line_alpha\":[1.0],\"line_color\":[\"black\"],\"width\":[0.171875],\"x\":[\"1.2578125\"],\"y\":[0.0]}},\"id\":\"3bb8592c-3560-4678-89b7-7d79ad53be3e\",\"type\":\"ColumnDataSource\"},{\"attributes\":{\"data_source\":{\"id\":\"2bdc19c0-04eb-446a-8cb5-fa6187f8ce20\",\"type\":\"ColumnDataSource\"},\"glyph\":{\"id\":\"1b8cce93-10f9-4d6a-826a-abc29419057a\",\"type\":\"Rect\"},\"hover_glyph\":null,\"muted_glyph\":null},\"id\":\"4f373cb8-ee7b-49ec-86c3-745f8bd17c1c\",\"type\":\"GlyphRenderer\"},{\"attributes\":{\"data_source\":{\"id\":\"06bdc510-dd66-42fa-a3d7-3cdc0c672ca4\",\"type\":\"ColumnDataSource\"},\"glyph\":{\"id\":\"e7492fb1-22b6-4f57-9e26-78dade686ca6\",\"type\":\"Rect\"},\"hover_glyph\":null,\"muted_glyph\":null},\"id\":\"dbe55766-2a92-446d-9c88-4296d27a9b44\",\"type\":\"GlyphRenderer\"},{\"attributes\":{\"callback\":null,\"column_names\":[\"line_color\",\"line_alpha\",\"color\",\"fill_alpha\",\"height\",\"width\",\"y\",\"x\",\"label\"],\"data\":{\"chart_index\":[\"(3.921875, 4.093750]\"],\"color\":[\"#f22c40\"],\"fill_alpha\":[0.8],\"height\":[26.0],\"label\":[\"(3.921875, 4.093750]\"],\"line_alpha\":[1.0],\"line_color\":[\"black\"],\"width\":[0.171875],\"x\":[\"4.0078125\"],\"y\":[13.0]}},\"id\":\"eec3d756-a55a-48fe-90d1-705c2685dbbf\",\"type\":\"ColumnDataSource\"},{\"attributes\":{\"data_source\":{\"id\":\"67aa2544-408b-4d1c-9bf5-0f49c60ebb33\",\"type\":\"ColumnDataSource\"},\"glyph\":{\"id\":\"00542c6b-3d51-46e8-8881-a4e567e96a86\",\"type\":\"Rect\"},\"hover_glyph\":null,\"muted_glyph\":null},\"id\":\"8d4a5d28-2ab4-402a-8a48-7c807468cb36\",\"type\":\"GlyphRenderer\"},{\"attributes\":{\"fill_alpha\":{\"field\":\"fill_alpha\"},\"fill_color\":{\"field\":\"color\"},\"height\":{\"field\":\"height\",\"units\":\"data\"},\"line_color\":{\"field\":\"line_color\"},\"width\":{\"field\":\"width\",\"units\":\"data\"},\"x\":{\"field\":\"x\"},\"y\":{\"field\":\"y\"}},\"id\":\"e7492fb1-22b6-4f57-9e26-78dade686ca6\",\"type\":\"Rect\"},{\"attributes\":{\"data_source\":{\"id\":\"7e2aa18b-8754-467d-991d-06cc0e56ed56\",\"type\":\"ColumnDataSource\"},\"glyph\":{\"id\":\"cad5e3c8-40c2-4310-9dcd-ad0ecae8cbf5\",\"type\":\"Rect\"},\"hover_glyph\":null,\"muted_glyph\":null},\"id\":\"fe736219-1b6e-4c6c-941e-a4fa1bc05131\",\"type\":\"GlyphRenderer\"},{\"attributes\":{\"data_source\":{\"id\":\"4196b147-46de-4193-b14b-45da775b94a8\",\"type\":\"ColumnDataSource\"},\"glyph\":{\"id\":\"dcb3cc86-86ee-455d-afc3-6dc8dfe6cac4\",\"type\":\"Rect\"},\"hover_glyph\":null,\"muted_glyph\":null},\"id\":\"7b3999d0-558f-4dc4-ba00-11a6cf0baf72\",\"type\":\"GlyphRenderer\"},{\"attributes\":{\"axis_label\":\"Months\",\"formatter\":{\"id\":\"0e573586-c2ce-4157-9618-53b5f013bc24\",\"type\":\"BasicTickFormatter\"},\"plot\":{\"id\":\"dba8914e-668e-426f-8d1b-362dfe0281c1\",\"subtype\":\"Chart\",\"type\":\"Plot\"},\"ticker\":{\"id\":\"bc58c2dd-06f3-40e9-810f-f4e65f573ada\",\"type\":\"BasicTicker\"}},\"id\":\"48185192-7a63-405f-a271-ec7f6257aa48\",\"type\":\"LinearAxis\"},{\"attributes\":{\"fill_alpha\":{\"field\":\"fill_alpha\"},\"fill_color\":{\"field\":\"color\"},\"height\":{\"field\":\"height\",\"units\":\"data\"},\"line_color\":{\"field\":\"line_color\"},\"width\":{\"field\":\"width\",\"units\":\"data\"},\"x\":{\"field\":\"x\"},\"y\":{\"field\":\"y\"}},\"id\":\"8ba3b546-c416-4735-b412-8ebbfd515146\",\"type\":\"Rect\"},{\"attributes\":{\"callback\":null,\"column_names\":[\"line_color\",\"line_alpha\",\"color\",\"fill_alpha\",\"height\",\"width\",\"y\",\"x\",\"label\"],\"data\":{\"chart_index\":[\"(9.765625, 9.937500]\"],\"color\":[\"#f22c40\"],\"fill_alpha\":[0.8],\"height\":[0.0],\"label\":[\"(9.765625, 9.937500]\"],\"line_alpha\":[1.0],\"line_color\":[\"black\"],\"width\":[0.171875],\"x\":[\"9.8515625\"],\"y\":[0.0]}},\"id\":\"2969701e-2ff6-4da9-82b9-57536405122c\",\"type\":\"ColumnDataSource\"},{\"attributes\":{\"data_source\":{\"id\":\"b5cf8e39-f93f-4ee2-b235-c85c4add686b\",\"type\":\"ColumnDataSource\"},\"glyph\":{\"id\":\"d6f1199f-b27b-4862-ac6d-adc59ad2253b\",\"type\":\"Rect\"},\"hover_glyph\":null,\"muted_glyph\":null},\"id\":\"57ebbc99-5791-4cd4-913e-a2ff48986f74\",\"type\":\"GlyphRenderer\"},{\"attributes\":{\"fill_alpha\":{\"field\":\"fill_alpha\"},\"fill_color\":{\"field\":\"color\"},\"height\":{\"field\":\"height\",\"units\":\"data\"},\"line_color\":{\"field\":\"line_color\"},\"width\":{\"field\":\"width\",\"units\":\"data\"},\"x\":{\"field\":\"x\"},\"y\":{\"field\":\"y\"}},\"id\":\"e879d8ed-a9f4-4afd-bbad-1ed115eac56d\",\"type\":\"Rect\"},{\"attributes\":{\"fill_alpha\":{\"field\":\"fill_alpha\"},\"fill_color\":{\"field\":\"color\"},\"height\":{\"field\":\"height\",\"units\":\"data\"},\"line_color\":{\"field\":\"line_color\"},\"width\":{\"field\":\"width\",\"units\":\"data\"},\"x\":{\"field\":\"x\"},\"y\":{\"field\":\"y\"}},\"id\":\"febf8de2-90ca-425d-954d-87d4e65b0f72\",\"type\":\"Rect\"},{\"attributes\":{\"callback\":null,\"column_names\":[\"line_color\",\"line_alpha\",\"color\",\"fill_alpha\",\"height\",\"width\",\"y\",\"x\",\"label\"],\"data\":{\"chart_index\":[\"(8.562500, 8.734375]\"],\"color\":[\"#f22c40\"],\"fill_alpha\":[0.8],\"height\":[0.0],\"label\":[\"(8.562500, 8.734375]\"],\"line_alpha\":[1.0],\"line_color\":[\"black\"],\"width\":[0.171875],\"x\":[\"8.6484375\"],\"y\":[0.0]}},\"id\":\"8e010c89-3ca6-4b50-b6ba-6599fe3f944f\",\"type\":\"ColumnDataSource\"},{\"attributes\":{\"data_source\":{\"id\":\"ead3122a-297f-473c-a3ff-224852afc139\",\"type\":\"ColumnDataSource\"},\"glyph\":{\"id\":\"dfcbf2c3-7300-4d01-b817-1551f8c4caea\",\"type\":\"Rect\"},\"hover_glyph\":null,\"muted_glyph\":null},\"id\":\"2cbcfa58-0c84-4d46-95c5-945cb18a9719\",\"type\":\"GlyphRenderer\"},{\"attributes\":{\"callback\":null,\"column_names\":[\"line_color\",\"line_alpha\",\"color\",\"fill_alpha\",\"height\",\"width\",\"y\",\"x\",\"label\"],\"data\":{\"chart_index\":[\"(8.046875, 8.218750]\"],\"color\":[\"#f22c40\"],\"fill_alpha\":[0.8],\"height\":[0.0],\"label\":[\"(8.046875, 8.218750]\"],\"line_alpha\":[1.0],\"line_color\":[\"black\"],\"width\":[0.171875],\"x\":[\"8.1328125\"],\"y\":[0.0]}},\"id\":\"8a058986-34ba-4cc2-b519-158ead720481\",\"type\":\"ColumnDataSource\"},{\"attributes\":{\"fill_alpha\":{\"field\":\"fill_alpha\"},\"fill_color\":{\"field\":\"color\"},\"height\":{\"field\":\"height\",\"units\":\"data\"},\"line_color\":{\"field\":\"line_color\"},\"width\":{\"field\":\"width\",\"units\":\"data\"},\"x\":{\"field\":\"x\"},\"y\":{\"field\":\"y\"}},\"id\":\"647f0e23-4d20-4d46-90ef-e62a17f456a1\",\"type\":\"Rect\"},{\"attributes\":{\"fill_alpha\":{\"field\":\"fill_alpha\"},\"fill_color\":{\"field\":\"color\"},\"height\":{\"field\":\"height\",\"units\":\"data\"},\"line_color\":{\"field\":\"line_color\"},\"width\":{\"field\":\"width\",\"units\":\"data\"},\"x\":{\"field\":\"x\"},\"y\":{\"field\":\"y\"}},\"id\":\"e8a4d86b-06c1-4b19-9863-b29a1db8f4cb\",\"type\":\"Rect\"},{\"attributes\":{\"callback\":null,\"column_names\":[\"line_color\",\"line_alpha\",\"color\",\"fill_alpha\",\"height\",\"width\",\"y\",\"x\",\"label\"],\"data\":{\"chart_index\":[\"(5.812500, 5.984375]\"],\"color\":[\"#f22c40\"],\"fill_alpha\":[0.8],\"height\":[0.0],\"label\":[\"(5.812500, 5.984375]\"],\"line_alpha\":[1.0],\"line_color\":[\"black\"],\"width\":[0.171875],\"x\":[\"5.8984375\"],\"y\":[0.0]}},\"id\":\"ce256b9f-15ec-4496-b61f-fce8b99284c0\",\"type\":\"ColumnDataSource\"},{\"attributes\":{\"plot\":{\"id\":\"dba8914e-668e-426f-8d1b-362dfe0281c1\",\"subtype\":\"Chart\",\"type\":\"Plot\"}},\"id\":\"18ea7611-3e74-4798-8609-888741ecee90\",\"type\":\"HelpTool\"},{\"attributes\":{\"data_source\":{\"id\":\"2071c0a7-8bce-411a-938e-0466c8972d56\",\"type\":\"ColumnDataSource\"},\"glyph\":{\"id\":\"ee687022-8350-4e15-9c5d-621262a74c2b\",\"type\":\"Rect\"},\"hover_glyph\":null,\"muted_glyph\":null},\"id\":\"249b7746-be55-4aa6-9dd0-cdc9f7195484\",\"type\":\"GlyphRenderer\"},{\"attributes\":{\"data_source\":{\"id\":\"2af34b1d-980c-42db-b348-db766dc938fc\",\"type\":\"ColumnDataSource\"},\"glyph\":{\"id\":\"e4312391-11ab-46f6-89b2-3afedf45728d\",\"type\":\"Rect\"},\"hover_glyph\":null,\"muted_glyph\":null},\"id\":\"00eba594-9ea9-417d-81b6-19705426f34d\",\"type\":\"GlyphRenderer\"},{\"attributes\":{\"data_source\":{\"id\":\"32ca1379-6464-41b2-8ffd-7ccc39e59a1b\",\"type\":\"ColumnDataSource\"},\"glyph\":{\"id\":\"403dc283-a945-4c2f-8ce8-14a038a2470f\",\"type\":\"Rect\"},\"hover_glyph\":null,\"muted_glyph\":null},\"id\":\"d3a0e2d7-4d6d-41b1-8599-44caf29fa5c1\",\"type\":\"GlyphRenderer\"},{\"attributes\":{\"data_source\":{\"id\":\"fcf3e8ba-b394-40ab-b337-4c11a8c21859\",\"type\":\"ColumnDataSource\"},\"glyph\":{\"id\":\"8ba3b546-c416-4735-b412-8ebbfd515146\",\"type\":\"Rect\"},\"hover_glyph\":null,\"muted_glyph\":null},\"id\":\"8764c340-58e7-4d24-87a7-36b78cfbfd29\",\"type\":\"GlyphRenderer\"},{\"attributes\":{\"data_source\":{\"id\":\"e6f4aaf2-11e3-4888-92b8-94a0d03e6051\",\"type\":\"ColumnDataSource\"},\"glyph\":{\"id\":\"78fe97ab-8398-4b43-b732-7abcf62fcc88\",\"type\":\"Rect\"},\"hover_glyph\":null,\"muted_glyph\":null},\"id\":\"045711b6-de40-4b8a-bfb4-08b85a4163b0\",\"type\":\"GlyphRenderer\"},{\"attributes\":{\"data_source\":{\"id\":\"1a4b25f3-a11b-4919-9f91-6c56260dfac8\",\"type\":\"ColumnDataSource\"},\"glyph\":{\"id\":\"b1574336-72e5-45fd-bf58-895f865b564a\",\"type\":\"Rect\"},\"hover_glyph\":null,\"muted_glyph\":null},\"id\":\"743de06a-d54a-4ac5-8b75-2dde0c9ecdf4\",\"type\":\"GlyphRenderer\"},{\"attributes\":{\"callback\":null,\"column_names\":[\"line_color\",\"line_alpha\",\"color\",\"fill_alpha\",\"height\",\"width\",\"y\",\"x\",\"label\"],\"data\":{\"chart_index\":[\"(1.515625, 1.687500]\"],\"color\":[\"#f22c40\"],\"fill_alpha\":[0.8],\"height\":[0.0],\"label\":[\"(1.515625, 1.687500]\"],\"line_alpha\":[1.0],\"line_color\":[\"black\"],\"width\":[0.171875],\"x\":[\"1.6015625\"],\"y\":[0.0]}},\"id\":\"52330452-f070-43f2-b0ec-e0f82b591a4a\",\"type\":\"ColumnDataSource\"},{\"attributes\":{},\"id\":\"b137635e-7a7b-4f5b-acde-4f039287da19\",\"type\":\"ToolEvents\"},{\"attributes\":{\"fill_alpha\":{\"field\":\"fill_alpha\"},\"fill_color\":{\"field\":\"color\"},\"height\":{\"field\":\"height\",\"units\":\"data\"},\"line_color\":{\"field\":\"line_color\"},\"width\":{\"field\":\"width\",\"units\":\"data\"},\"x\":{\"field\":\"x\"},\"y\":{\"field\":\"y\"}},\"id\":\"09a8dd35-fd6b-41da-9429-385ffbc35397\",\"type\":\"Rect\"},{\"attributes\":{\"fill_alpha\":{\"field\":\"fill_alpha\"},\"fill_color\":{\"field\":\"color\"},\"height\":{\"field\":\"height\",\"units\":\"data\"},\"line_color\":{\"field\":\"line_color\"},\"width\":{\"field\":\"width\",\"units\":\"data\"},\"x\":{\"field\":\"x\"},\"y\":{\"field\":\"y\"}},\"id\":\"3b469625-9772-437a-8b75-5742a070e7dc\",\"type\":\"Rect\"},{\"attributes\":{\"data_source\":{\"id\":\"ee71203e-e0e5-4dd5-94e7-5cb6fb1d8e8e\",\"type\":\"ColumnDataSource\"},\"glyph\":{\"id\":\"0af041d6-498a-4586-9d86-d2f8e083a7ed\",\"type\":\"Rect\"},\"hover_glyph\":null,\"muted_glyph\":null},\"id\":\"9cee5a46-d13c-4776-9b4b-d66f962dee9c\",\"type\":\"GlyphRenderer\"},{\"attributes\":{\"fill_alpha\":{\"field\":\"fill_alpha\"},\"fill_color\":{\"field\":\"color\"},\"height\":{\"field\":\"height\",\"units\":\"data\"},\"line_color\":{\"field\":\"line_color\"},\"width\":{\"field\":\"width\",\"units\":\"data\"},\"x\":{\"field\":\"x\"},\"y\":{\"field\":\"y\"}},\"id\":\"1b8cce93-10f9-4d6a-826a-abc29419057a\",\"type\":\"Rect\"},{\"attributes\":{\"callback\":null,\"column_names\":[\"line_color\",\"line_alpha\",\"color\",\"fill_alpha\",\"height\",\"width\",\"y\",\"x\",\"label\"],\"data\":{\"chart_index\":[\"(2.203125, 2.375000]\"],\"color\":[\"#f22c40\"],\"fill_alpha\":[0.8],\"height\":[0.0],\"label\":[\"(2.203125, 2.375000]\"],\"line_alpha\":[1.0],\"line_color\":[\"black\"],\"width\":[0.171875],\"x\":[\"2.2890625\"],\"y\":[0.0]}},\"id\":\"bc5a19f2-a8e4-4010-ba60-c20049a2dac0\",\"type\":\"ColumnDataSource\"},{\"attributes\":{\"callback\":null,\"column_names\":[\"line_color\",\"line_alpha\",\"color\",\"fill_alpha\",\"height\",\"width\",\"y\",\"x\",\"label\"],\"data\":{\"chart_index\":[\"(10.453125, 10.625000]\"],\"color\":[\"#f22c40\"],\"fill_alpha\":[0.8],\"height\":[0.0],\"label\":[\"(10.453125, 10.625000]\"],\"line_alpha\":[1.0],\"line_color\":[\"black\"],\"width\":[0.171875],\"x\":[\"10.5390625\"],\"y\":[0.0]}},\"id\":\"1a4b25f3-a11b-4919-9f91-6c56260dfac8\",\"type\":\"ColumnDataSource\"},{\"attributes\":{\"callback\":null,\"column_names\":[\"line_color\",\"line_alpha\",\"color\",\"fill_alpha\",\"height\",\"width\",\"y\",\"x\",\"label\"],\"data\":{\"chart_index\":[\"(2.890625, 3.062500]\"],\"color\":[\"#f22c40\"],\"fill_alpha\":[0.8],\"height\":[16.0],\"label\":[\"(2.890625, 3.062500]\"],\"line_alpha\":[1.0],\"line_color\":[\"black\"],\"width\":[0.171875],\"x\":[\"2.9765625\"],\"y\":[8.0]}},\"id\":\"49b224ad-4391-430e-b817-d9d394f70ab4\",\"type\":\"ColumnDataSource\"},{\"attributes\":{\"callback\":null,\"column_names\":[\"line_color\",\"line_alpha\",\"color\",\"fill_alpha\",\"height\",\"width\",\"y\",\"x\",\"label\"],\"data\":{\"chart_index\":[\"(1.343750, 1.515625]\"],\"color\":[\"#f22c40\"],\"fill_alpha\":[0.8],\"height\":[0.0],\"label\":[\"(1.343750, 1.515625]\"],\"line_alpha\":[1.0],\"line_color\":[\"black\"],\"width\":[0.171875],\"x\":[\"1.4296875\"],\"y\":[0.0]}},\"id\":\"fcf3e8ba-b394-40ab-b337-4c11a8c21859\",\"type\":\"ColumnDataSource\"},{\"attributes\":{\"fill_alpha\":{\"field\":\"fill_alpha\"},\"fill_color\":{\"field\":\"color\"},\"height\":{\"field\":\"height\",\"units\":\"data\"},\"line_color\":{\"field\":\"line_color\"},\"width\":{\"field\":\"width\",\"units\":\"data\"},\"x\":{\"field\":\"x\"},\"y\":{\"field\":\"y\"}},\"id\":\"d502697e-48d7-4618-b2c7-8cb4b640f834\",\"type\":\"Rect\"},{\"attributes\":{\"callback\":null,\"column_names\":[\"line_color\",\"line_alpha\",\"color\",\"fill_alpha\",\"height\",\"width\",\"y\",\"x\",\"label\"],\"data\":{\"chart_index\":[\"[1.000000, 1.171875]\"],\"color\":[\"#f22c40\"],\"fill_alpha\":[0.8],\"height\":[16.0],\"label\":[\"[1.000000, 1.171875]\"],\"line_alpha\":[1.0],\"line_color\":[\"black\"],\"width\":[0.171875],\"x\":[\"1.0859375\"],\"y\":[8.0]}},\"id\":\"ead3122a-297f-473c-a3ff-224852afc139\",\"type\":\"ColumnDataSource\"},{\"attributes\":{\"data_source\":{\"id\":\"75d6a8d1-fb59-45c3-81fb-f770b331623c\",\"type\":\"ColumnDataSource\"},\"glyph\":{\"id\":\"438d918d-5163-4145-83ea-3298e1d2417e\",\"type\":\"Rect\"},\"hover_glyph\":null,\"muted_glyph\":null},\"id\":\"875d493b-3d80-4040-a331-c2d96b2559f9\",\"type\":\"GlyphRenderer\"},{\"attributes\":{\"callback\":null,\"column_names\":[\"line_color\",\"line_alpha\",\"color\",\"fill_alpha\",\"height\",\"width\",\"y\",\"x\",\"label\"],\"data\":{\"chart_index\":[\"(7.531250, 7.703125]\"],\"color\":[\"#f22c40\"],\"fill_alpha\":[0.8],\"height\":[0.0],\"label\":[\"(7.531250, 7.703125]\"],\"line_alpha\":[1.0],\"line_color\":[\"black\"],\"width\":[0.171875],\"x\":[\"7.6171875\"],\"y\":[0.0]}},\"id\":\"01a60e43-a560-4cda-82ae-9fb1bc44613a\",\"type\":\"ColumnDataSource\"},{\"attributes\":{\"data_source\":{\"id\":\"78e42d8d-e688-455a-b292-bc7d98b63bff\",\"type\":\"ColumnDataSource\"},\"glyph\":{\"id\":\"9dfd9983-c082-447a-91d5-e7c66b5f256e\",\"type\":\"Rect\"},\"hover_glyph\":null,\"muted_glyph\":null},\"id\":\"9d8fc553-5386-4b0a-b77a-076e3622b252\",\"type\":\"GlyphRenderer\"},{\"attributes\":{\"data_source\":{\"id\":\"b952eba7-800c-4996-9a17-4e1ccf81c09d\",\"type\":\"ColumnDataSource\"},\"glyph\":{\"id\":\"bef3ac98-0e57-4ce4-b889-ea40d5c7f046\",\"type\":\"Rect\"},\"hover_glyph\":null,\"muted_glyph\":null},\"id\":\"4f59977b-2611-4c81-a059-873651b69bd2\",\"type\":\"GlyphRenderer\"},{\"attributes\":{\"callback\":null,\"column_names\":[\"line_color\",\"line_alpha\",\"color\",\"fill_alpha\",\"height\",\"width\",\"y\",\"x\",\"label\"],\"data\":{\"chart_index\":[\"(8.218750, 8.390625]\"],\"color\":[\"#f22c40\"],\"fill_alpha\":[0.8],\"height\":[0.0],\"label\":[\"(8.218750, 8.390625]\"],\"line_alpha\":[1.0],\"line_color\":[\"black\"],\"width\":[0.171875],\"x\":[\"8.3046875\"],\"y\":[0.0]}},\"id\":\"886ae792-e60c-4b22-9a85-32a90654d34c\",\"type\":\"ColumnDataSource\"},{\"attributes\":{\"callback\":null,\"column_names\":[\"line_color\",\"line_alpha\",\"color\",\"fill_alpha\",\"height\",\"width\",\"y\",\"x\",\"label\"],\"data\":{\"chart_index\":[\"(6.843750, 7.015625]\"],\"color\":[\"#f22c40\"],\"fill_alpha\":[0.8],\"height\":[688.0],\"label\":[\"(6.843750, 7.015625]\"],\"line_alpha\":[1.0],\"line_color\":[\"black\"],\"width\":[0.171875],\"x\":[\"6.9296875\"],\"y\":[344.0]}},\"id\":\"2581e538-19c9-4c4d-b554-d760fb3a3ac8\",\"type\":\"ColumnDataSource\"},{\"attributes\":{\"data_source\":{\"id\":\"510e20bf-fcbe-4cde-89bd-362ae2e2be0c\",\"type\":\"ColumnDataSource\"},\"glyph\":{\"id\":\"7aef9e66-f7ce-4f9e-8174-8fd95cbeced0\",\"type\":\"Rect\"},\"hover_glyph\":null,\"muted_glyph\":null},\"id\":\"5e6d5ba5-1f4f-4039-a57b-2a6735c1a3e1\",\"type\":\"GlyphRenderer\"},{\"attributes\":{\"data_source\":{\"id\":\"cb4f169d-3dda-4eff-a86c-d6f95ae635cb\",\"type\":\"ColumnDataSource\"},\"glyph\":{\"id\":\"34dc4d69-d75b-43ad-8670-933f3bdd3205\",\"type\":\"Rect\"},\"hover_glyph\":null,\"muted_glyph\":null},\"id\":\"d1bb4724-fb53-473f-baa7-02390039c732\",\"type\":\"GlyphRenderer\"},{\"attributes\":{\"fill_alpha\":{\"field\":\"fill_alpha\"},\"fill_color\":{\"field\":\"color\"},\"height\":{\"field\":\"height\",\"units\":\"data\"},\"line_color\":{\"field\":\"line_color\"},\"width\":{\"field\":\"width\",\"units\":\"data\"},\"x\":{\"field\":\"x\"},\"y\":{\"field\":\"y\"}},\"id\":\"9c9c3d9f-8b86-4ff9-9496-295dafc79b0a\",\"type\":\"Rect\"},{\"attributes\":{\"data_source\":{\"id\":\"49b224ad-4391-430e-b817-d9d394f70ab4\",\"type\":\"ColumnDataSource\"},\"glyph\":{\"id\":\"4c436f61-e733-442c-a35d-4a9565eb9472\",\"type\":\"Rect\"},\"hover_glyph\":null,\"muted_glyph\":null},\"id\":\"9c0aadbe-294e-45cc-bd0b-39ad4959d2e3\",\"type\":\"GlyphRenderer\"},{\"attributes\":{\"fill_alpha\":{\"field\":\"fill_alpha\"},\"fill_color\":{\"field\":\"color\"},\"height\":{\"field\":\"height\",\"units\":\"data\"},\"line_color\":{\"field\":\"line_color\"},\"width\":{\"field\":\"width\",\"units\":\"data\"},\"x\":{\"field\":\"x\"},\"y\":{\"field\":\"y\"}},\"id\":\"da0d5e36-f1c9-4cd9-838b-a601fe470b32\",\"type\":\"Rect\"},{\"attributes\":{\"callback\":null,\"column_names\":[\"line_color\",\"line_alpha\",\"color\",\"fill_alpha\",\"height\",\"width\",\"y\",\"x\",\"label\"],\"data\":{\"chart_index\":[\"(4.093750, 4.265625]\"],\"color\":[\"#f22c40\"],\"fill_alpha\":[0.8],\"height\":[0.0],\"label\":[\"(4.093750, 4.265625]\"],\"line_alpha\":[1.0],\"line_color\":[\"black\"],\"width\":[0.171875],\"x\":[\"4.1796875\"],\"y\":[0.0]}},\"id\":\"031e9cba-f4fb-429c-a0f9-38040a471876\",\"type\":\"ColumnDataSource\"},{\"attributes\":{\"data_source\":{\"id\":\"01a60e43-a560-4cda-82ae-9fb1bc44613a\",\"type\":\"ColumnDataSource\"},\"glyph\":{\"id\":\"3b469625-9772-437a-8b75-5742a070e7dc\",\"type\":\"Rect\"},\"hover_glyph\":null,\"muted_glyph\":null},\"id\":\"2a896b5e-5703-493d-bb18-ff66c402c0d4\",\"type\":\"GlyphRenderer\"},{\"attributes\":{\"data_source\":{\"id\":\"cbb9c8b8-629f-445e-a8cb-8cdf8d682f00\",\"type\":\"ColumnDataSource\"},\"glyph\":{\"id\":\"da0d5e36-f1c9-4cd9-838b-a601fe470b32\",\"type\":\"Rect\"},\"hover_glyph\":null,\"muted_glyph\":null},\"id\":\"3d35947f-3283-4497-bf75-27d25dc8cf93\",\"type\":\"GlyphRenderer\"},{\"attributes\":{\"fill_alpha\":{\"field\":\"fill_alpha\"},\"fill_color\":{\"field\":\"color\"},\"height\":{\"field\":\"height\",\"units\":\"data\"},\"line_color\":{\"field\":\"line_color\"},\"width\":{\"field\":\"width\",\"units\":\"data\"},\"x\":{\"field\":\"x\"},\"y\":{\"field\":\"y\"}},\"id\":\"45432002-9e50-4293-a466-c5f6314df5a2\",\"type\":\"Rect\"},{\"attributes\":{\"callback\":null,\"column_names\":[\"line_color\",\"line_alpha\",\"color\",\"fill_alpha\",\"height\",\"width\",\"y\",\"x\",\"label\"],\"data\":{\"chart_index\":[\"(7.703125, 7.875000]\"],\"color\":[\"#f22c40\"],\"fill_alpha\":[0.8],\"height\":[0.0],\"label\":[\"(7.703125, 7.875000]\"],\"line_alpha\":[1.0],\"line_color\":[\"black\"],\"width\":[0.171875],\"x\":[\"7.7890625\"],\"y\":[0.0]}},\"id\":\"67aa2544-408b-4d1c-9bf5-0f49c60ebb33\",\"type\":\"ColumnDataSource\"},{\"attributes\":{\"data_source\":{\"id\":\"eec3d756-a55a-48fe-90d1-705c2685dbbf\",\"type\":\"ColumnDataSource\"},\"glyph\":{\"id\":\"44f61d7c-1632-4fb8-a37c-4f1462289c0d\",\"type\":\"Rect\"},\"hover_glyph\":null,\"muted_glyph\":null},\"id\":\"2371819a-660c-4fe1-b347-b8128a553795\",\"type\":\"GlyphRenderer\"},{\"attributes\":{\"fill_alpha\":{\"field\":\"fill_alpha\"},\"fill_color\":{\"field\":\"color\"},\"height\":{\"field\":\"height\",\"units\":\"data\"},\"line_color\":{\"field\":\"line_color\"},\"width\":{\"field\":\"width\",\"units\":\"data\"},\"x\":{\"field\":\"x\"},\"y\":{\"field\":\"y\"}},\"id\":\"b3a6c929-f7b3-4564-8cc3-80deec0c13a4\",\"type\":\"Rect\"},{\"attributes\":{\"fill_alpha\":{\"field\":\"fill_alpha\"},\"fill_color\":{\"field\":\"color\"},\"height\":{\"field\":\"height\",\"units\":\"data\"},\"line_color\":{\"field\":\"line_color\"},\"width\":{\"field\":\"width\",\"units\":\"data\"},\"x\":{\"field\":\"x\"},\"y\":{\"field\":\"y\"}},\"id\":\"272c45b6-486e-496b-afc9-c6cd85a73d37\",\"type\":\"Rect\"},{\"attributes\":{\"fill_alpha\":{\"field\":\"fill_alpha\"},\"fill_color\":{\"field\":\"color\"},\"height\":{\"field\":\"height\",\"units\":\"data\"},\"line_color\":{\"field\":\"line_color\"},\"width\":{\"field\":\"width\",\"units\":\"data\"},\"x\":{\"field\":\"x\"},\"y\":{\"field\":\"y\"}},\"id\":\"78fe97ab-8398-4b43-b732-7abcf62fcc88\",\"type\":\"Rect\"},{\"attributes\":{\"data_source\":{\"id\":\"031e9cba-f4fb-429c-a0f9-38040a471876\",\"type\":\"ColumnDataSource\"},\"glyph\":{\"id\":\"811952df-3c67-4616-a793-3b5dc327d5b8\",\"type\":\"Rect\"},\"hover_glyph\":null,\"muted_glyph\":null},\"id\":\"38966d20-65e4-457f-ae1e-835c6039f343\",\"type\":\"GlyphRenderer\"},{\"attributes\":{},\"id\":\"0e573586-c2ce-4157-9618-53b5f013bc24\",\"type\":\"BasicTickFormatter\"},{\"attributes\":{\"callback\":null,\"column_names\":[\"line_color\",\"line_alpha\",\"color\",\"fill_alpha\",\"height\",\"width\",\"y\",\"x\",\"label\"],\"data\":{\"chart_index\":[\"(11.140625, 11.312500]\"],\"color\":[\"#f22c40\"],\"fill_alpha\":[0.8],\"height\":[0.0],\"label\":[\"(11.140625, 11.312500]\"],\"line_alpha\":[1.0],\"line_color\":[\"black\"],\"width\":[0.171875],\"x\":[\"11.2265625\"],\"y\":[0.0]}},\"id\":\"737ba4a9-9dd7-4b50-a2ba-fa40c2348765\",\"type\":\"ColumnDataSource\"},{\"attributes\":{\"fill_alpha\":{\"field\":\"fill_alpha\"},\"fill_color\":{\"field\":\"color\"},\"height\":{\"field\":\"height\",\"units\":\"data\"},\"line_color\":{\"field\":\"line_color\"},\"width\":{\"field\":\"width\",\"units\":\"data\"},\"x\":{\"field\":\"x\"},\"y\":{\"field\":\"y\"}},\"id\":\"ef8a69f1-9da7-4c0e-b49d-93c778c4f195\",\"type\":\"Rect\"},{\"attributes\":{\"callback\":null,\"column_names\":[\"line_color\",\"line_alpha\",\"color\",\"fill_alpha\",\"height\",\"width\",\"y\",\"x\",\"label\"],\"data\":{\"chart_index\":[\"(4.437500, 4.609375]\"],\"color\":[\"#f22c40\"],\"fill_alpha\":[0.8],\"height\":[0.0],\"label\":[\"(4.437500, 4.609375]\"],\"line_alpha\":[1.0],\"line_color\":[\"black\"],\"width\":[0.171875],\"x\":[\"4.5234375\"],\"y\":[0.0]}},\"id\":\"ea74ca8e-a658-494f-b4b4-68c3559c6cb7\",\"type\":\"ColumnDataSource\"},{\"attributes\":{\"callback\":null,\"column_names\":[\"line_color\",\"line_alpha\",\"color\",\"fill_alpha\",\"height\",\"width\",\"y\",\"x\",\"label\"],\"data\":{\"chart_index\":[\"(5.125000, 5.296875]\"],\"color\":[\"#f22c40\"],\"fill_alpha\":[0.8],\"height\":[0.0],\"label\":[\"(5.125000, 5.296875]\"],\"line_alpha\":[1.0],\"line_color\":[\"black\"],\"width\":[0.171875],\"x\":[\"5.2109375\"],\"y\":[0.0]}},\"id\":\"ddbad180-5e60-4cf3-a867-93acade5a82e\",\"type\":\"ColumnDataSource\"},{\"attributes\":{\"callback\":null,\"column_names\":[\"line_color\",\"line_alpha\",\"color\",\"fill_alpha\",\"height\",\"width\",\"y\",\"x\",\"label\"],\"data\":{\"chart_index\":[\"(9.593750, 9.765625]\"],\"color\":[\"#f22c40\"],\"fill_alpha\":[0.8],\"height\":[0.0],\"label\":[\"(9.593750, 9.765625]\"],\"line_alpha\":[1.0],\"line_color\":[\"black\"],\"width\":[0.171875],\"x\":[\"9.6796875\"],\"y\":[0.0]}},\"id\":\"4c357827-0a05-44fe-9bb5-c89a3e9eca20\",\"type\":\"ColumnDataSource\"},{\"attributes\":{\"fill_alpha\":{\"field\":\"fill_alpha\"},\"fill_color\":{\"field\":\"color\"},\"height\":{\"field\":\"height\",\"units\":\"data\"},\"line_color\":{\"field\":\"line_color\"},\"width\":{\"field\":\"width\",\"units\":\"data\"},\"x\":{\"field\":\"x\"},\"y\":{\"field\":\"y\"}},\"id\":\"00542c6b-3d51-46e8-8881-a4e567e96a86\",\"type\":\"Rect\"},{\"attributes\":{\"callback\":null,\"column_names\":[\"line_color\",\"line_alpha\",\"color\",\"fill_alpha\",\"height\",\"width\",\"y\",\"x\",\"label\"],\"data\":{\"chart_index\":[\"(3.234375, 3.406250]\"],\"color\":[\"#f22c40\"],\"fill_alpha\":[0.8],\"height\":[0.0],\"label\":[\"(3.234375, 3.406250]\"],\"line_alpha\":[1.0],\"line_color\":[\"black\"],\"width\":[0.171875],\"x\":[\"3.3203125\"],\"y\":[0.0]}},\"id\":\"ee71203e-e0e5-4dd5-94e7-5cb6fb1d8e8e\",\"type\":\"ColumnDataSource\"},{\"attributes\":{},\"id\":\"d80271e7-4207-490f-86c3-1d8e8c7b42ee\",\"type\":\"LinearScale\"},{\"attributes\":{\"data_source\":{\"id\":\"8e010c89-3ca6-4b50-b6ba-6599fe3f944f\",\"type\":\"ColumnDataSource\"},\"glyph\":{\"id\":\"5be9e2b4-3355-4123-abd8-4641f6bfb9fe\",\"type\":\"Rect\"},\"hover_glyph\":null,\"muted_glyph\":null},\"id\":\"0752db45-1fb9-425c-8e1e-8ec15ca70235\",\"type\":\"GlyphRenderer\"},{\"attributes\":{\"callback\":null,\"column_names\":[\"line_color\",\"line_alpha\",\"color\",\"fill_alpha\",\"height\",\"width\",\"y\",\"x\",\"label\"],\"data\":{\"chart_index\":[\"(5.984375, 6.156250]\"],\"color\":[\"#f22c40\"],\"fill_alpha\":[0.8],\"height\":[482.0],\"label\":[\"(5.984375, 6.156250]\"],\"line_alpha\":[1.0],\"line_color\":[\"black\"],\"width\":[0.171875],\"x\":[\"6.0703125\"],\"y\":[241.0]}},\"id\":\"95445231-748b-48fe-8350-b071dad02b81\",\"type\":\"ColumnDataSource\"},{\"attributes\":{\"fill_alpha\":{\"field\":\"fill_alpha\"},\"fill_color\":{\"field\":\"color\"},\"height\":{\"field\":\"height\",\"units\":\"data\"},\"line_color\":{\"field\":\"line_color\"},\"width\":{\"field\":\"width\",\"units\":\"data\"},\"x\":{\"field\":\"x\"},\"y\":{\"field\":\"y\"}},\"id\":\"dfcbf2c3-7300-4d01-b817-1551f8c4caea\",\"type\":\"Rect\"},{\"attributes\":{\"data_source\":{\"id\":\"2581e538-19c9-4c4d-b554-d760fb3a3ac8\",\"type\":\"ColumnDataSource\"},\"glyph\":{\"id\":\"c797f630-5456-4d81-9bcb-1fdd3e3a6a7c\",\"type\":\"Rect\"},\"hover_glyph\":null,\"muted_glyph\":null},\"id\":\"dbc6bfe0-7061-40ba-9ef5-d88187e811a4\",\"type\":\"GlyphRenderer\"},{\"attributes\":{\"fill_alpha\":{\"field\":\"fill_alpha\"},\"fill_color\":{\"field\":\"color\"},\"height\":{\"field\":\"height\",\"units\":\"data\"},\"line_color\":{\"field\":\"line_color\"},\"width\":{\"field\":\"width\",\"units\":\"data\"},\"x\":{\"field\":\"x\"},\"y\":{\"field\":\"y\"}},\"id\":\"f8a859ad-4413-498d-8bf9-d85fdea4e6a0\",\"type\":\"Rect\"},{\"attributes\":{\"fill_alpha\":{\"field\":\"fill_alpha\"},\"fill_color\":{\"field\":\"color\"},\"height\":{\"field\":\"height\",\"units\":\"data\"},\"line_color\":{\"field\":\"line_color\"},\"width\":{\"field\":\"width\",\"units\":\"data\"},\"x\":{\"field\":\"x\"},\"y\":{\"field\":\"y\"}},\"id\":\"9dfd9983-c082-447a-91d5-e7c66b5f256e\",\"type\":\"Rect\"},{\"attributes\":{\"data_source\":{\"id\":\"a96db02e-5321-4318-be8c-629431e07f40\",\"type\":\"ColumnDataSource\"},\"glyph\":{\"id\":\"5ad96668-bf3c-448a-855f-c226e27782b0\",\"type\":\"Rect\"},\"hover_glyph\":null,\"muted_glyph\":null},\"id\":\"afb31089-094b-4a88-bab7-456dd5af6f15\",\"type\":\"GlyphRenderer\"},{\"attributes\":{\"callback\":null,\"column_names\":[\"line_color\",\"line_alpha\",\"color\",\"fill_alpha\",\"height\",\"width\",\"y\",\"x\",\"label\"],\"data\":{\"chart_index\":[\"(6.500000, 6.671875]\"],\"color\":[\"#f22c40\"],\"fill_alpha\":[0.8],\"height\":[0.0],\"label\":[\"(6.500000, 6.671875]\"],\"line_alpha\":[1.0],\"line_color\":[\"black\"],\"width\":[0.171875],\"x\":[\"6.5859375\"],\"y\":[0.0]}},\"id\":\"085e1585-e20c-4439-af57-25b20cc910ef\",\"type\":\"ColumnDataSource\"},{\"attributes\":{\"callback\":null,\"end\":12.325,\"start\":0.675},\"id\":\"67410be6-bba5-4f0b-a1d9-1d4c951dcc98\",\"type\":\"Range1d\"},{\"attributes\":{\"callback\":null,\"column_names\":[\"line_color\",\"line_alpha\",\"color\",\"fill_alpha\",\"height\",\"width\",\"y\",\"x\",\"label\"],\"data\":{\"chart_index\":[\"(6.328125, 6.500000]\"],\"color\":[\"#f22c40\"],\"fill_alpha\":[0.8],\"height\":[0.0],\"label\":[\"(6.328125, 6.500000]\"],\"line_alpha\":[1.0],\"line_color\":[\"black\"],\"width\":[0.171875],\"x\":[\"6.4140625\"],\"y\":[0.0]}},\"id\":\"591484d8-4b24-4f26-b571-8133313b9c72\",\"type\":\"ColumnDataSource\"},{\"attributes\":{\"callback\":null,\"column_names\":[\"line_color\",\"line_alpha\",\"color\",\"fill_alpha\",\"height\",\"width\",\"y\",\"x\",\"label\"],\"data\":{\"chart_index\":[\"(4.265625, 4.437500]\"],\"color\":[\"#f22c40\"],\"fill_alpha\":[0.8],\"height\":[0.0],\"label\":[\"(4.265625, 4.437500]\"],\"line_alpha\":[1.0],\"line_color\":[\"black\"],\"width\":[0.171875],\"x\":[\"4.3515625\"],\"y\":[0.0]}},\"id\":\"3dc5b350-869a-4cc3-8f02-5b930b880546\",\"type\":\"ColumnDataSource\"},{\"attributes\":{\"fill_alpha\":{\"field\":\"fill_alpha\"},\"fill_color\":{\"field\":\"color\"},\"height\":{\"field\":\"height\",\"units\":\"data\"},\"line_color\":{\"field\":\"line_color\"},\"width\":{\"field\":\"width\",\"units\":\"data\"},\"x\":{\"field\":\"x\"},\"y\":{\"field\":\"y\"}},\"id\":\"dcb3cc86-86ee-455d-afc3-6dc8dfe6cac4\",\"type\":\"Rect\"},{\"attributes\":{\"data_source\":{\"id\":\"17657ac9-e16a-40ab-b3c7-8588b0e3f08c\",\"type\":\"ColumnDataSource\"},\"glyph\":{\"id\":\"e8a4d86b-06c1-4b19-9863-b29a1db8f4cb\",\"type\":\"Rect\"},\"hover_glyph\":null,\"muted_glyph\":null},\"id\":\"65368108-2238-4c90-a35b-cbdd04abc32b\",\"type\":\"GlyphRenderer\"},{\"attributes\":{\"callback\":null,\"column_names\":[\"line_color\",\"line_alpha\",\"color\",\"fill_alpha\",\"height\",\"width\",\"y\",\"x\",\"label\"],\"data\":{\"chart_index\":[\"(3.578125, 3.750000]\"],\"color\":[\"#f22c40\"],\"fill_alpha\":[0.8],\"height\":[0.0],\"label\":[\"(3.578125, 3.750000]\"],\"line_alpha\":[1.0],\"line_color\":[\"black\"],\"width\":[0.171875],\"x\":[\"3.6640625\"],\"y\":[0.0]}},\"id\":\"2bdc19c0-04eb-446a-8cb5-fa6187f8ce20\",\"type\":\"ColumnDataSource\"},{\"attributes\":{\"data_source\":{\"id\":\"6b1c5a21-b904-4943-902a-e24ce6e17b8c\",\"type\":\"ColumnDataSource\"},\"glyph\":{\"id\":\"cbd3cab3-b263-4baf-a951-b56ae6cae8df\",\"type\":\"Rect\"},\"hover_glyph\":null,\"muted_glyph\":null},\"id\":\"891c5980-8a4b-405a-a59d-9d2184b6921a\",\"type\":\"GlyphRenderer\"},{\"attributes\":{\"callback\":null,\"column_names\":[\"line_color\",\"line_alpha\",\"color\",\"fill_alpha\",\"height\",\"width\",\"y\",\"x\",\"label\"],\"data\":{\"chart_index\":[\"(5.296875, 5.468750]\"],\"color\":[\"#f22c40\"],\"fill_alpha\":[0.8],\"height\":[0.0],\"label\":[\"(5.296875, 5.468750]\"],\"line_alpha\":[1.0],\"line_color\":[\"black\"],\"width\":[0.171875],\"x\":[\"5.3828125\"],\"y\":[0.0]}},\"id\":\"78e42d8d-e688-455a-b292-bc7d98b63bff\",\"type\":\"ColumnDataSource\"},{\"attributes\":{\"data_source\":{\"id\":\"334d745d-b6bb-4f9c-9d7c-1443cd06b20c\",\"type\":\"ColumnDataSource\"},\"glyph\":{\"id\":\"f8a859ad-4413-498d-8bf9-d85fdea4e6a0\",\"type\":\"Rect\"},\"hover_glyph\":null,\"muted_glyph\":null},\"id\":\"6944def9-8eb5-4a2f-9117-dfdbf80cc4ca\",\"type\":\"GlyphRenderer\"},{\"attributes\":{\"callback\":null,\"column_names\":[\"line_color\",\"line_alpha\",\"color\",\"fill_alpha\",\"height\",\"width\",\"y\",\"x\",\"label\"],\"data\":{\"chart_index\":[\"(1.687500, 1.859375]\"],\"color\":[\"#f22c40\"],\"fill_alpha\":[0.8],\"height\":[0.0],\"label\":[\"(1.687500, 1.859375]\"],\"line_alpha\":[1.0],\"line_color\":[\"black\"],\"width\":[0.171875],\"x\":[\"1.7734375\"],\"y\":[0.0]}},\"id\":\"cbb9c8b8-629f-445e-a8cb-8cdf8d682f00\",\"type\":\"ColumnDataSource\"},{\"attributes\":{\"callback\":null,\"column_names\":[\"line_color\",\"line_alpha\",\"color\",\"fill_alpha\",\"height\",\"width\",\"y\",\"x\",\"label\"],\"data\":{\"chart_index\":[\"(9.937500, 10.109375]\"],\"color\":[\"#f22c40\"],\"fill_alpha\":[0.8],\"height\":[27.0],\"label\":[\"(9.937500, 10.109375]\"],\"line_alpha\":[1.0],\"line_color\":[\"black\"],\"width\":[0.171875],\"x\":[\"10.0234375\"],\"y\":[13.5]}},\"id\":\"06ec5c6b-4d04-47c8-9060-a6615bd91091\",\"type\":\"ColumnDataSource\"},{\"attributes\":{\"fill_alpha\":{\"field\":\"fill_alpha\"},\"fill_color\":{\"field\":\"color\"},\"height\":{\"field\":\"height\",\"units\":\"data\"},\"line_color\":{\"field\":\"line_color\"},\"width\":{\"field\":\"width\",\"units\":\"data\"},\"x\":{\"field\":\"x\"},\"y\":{\"field\":\"y\"}},\"id\":\"b1574336-72e5-45fd-bf58-895f865b564a\",\"type\":\"Rect\"},{\"attributes\":{\"fill_alpha\":{\"field\":\"fill_alpha\"},\"fill_color\":{\"field\":\"color\"},\"height\":{\"field\":\"height\",\"units\":\"data\"},\"line_color\":{\"field\":\"line_color\"},\"width\":{\"field\":\"width\",\"units\":\"data\"},\"x\":{\"field\":\"x\"},\"y\":{\"field\":\"y\"}},\"id\":\"cad5e3c8-40c2-4310-9dcd-ad0ecae8cbf5\",\"type\":\"Rect\"},{\"attributes\":{\"data_source\":{\"id\":\"2969701e-2ff6-4da9-82b9-57536405122c\",\"type\":\"ColumnDataSource\"},\"glyph\":{\"id\":\"18a6c97a-1430-4746-8798-d9c55cd6e9b1\",\"type\":\"Rect\"},\"hover_glyph\":null,\"muted_glyph\":null},\"id\":\"ac723a84-c57c-4779-a5e5-407ed325f837\",\"type\":\"GlyphRenderer\"},{\"attributes\":{\"data_source\":{\"id\":\"4c357827-0a05-44fe-9bb5-c89a3e9eca20\",\"type\":\"ColumnDataSource\"},\"glyph\":{\"id\":\"898900a3-4443-4962-9f92-4a614e314dd1\",\"type\":\"Rect\"},\"hover_glyph\":null,\"muted_glyph\":null},\"id\":\"768ab330-5048-4021-9362-6dd94ad33b06\",\"type\":\"GlyphRenderer\"},{\"attributes\":{\"callback\":null,\"column_names\":[\"line_color\",\"line_alpha\",\"color\",\"fill_alpha\",\"height\",\"width\",\"y\",\"x\",\"label\"],\"data\":{\"chart_index\":[\"(9.421875, 9.593750]\"],\"color\":[\"#f22c40\"],\"fill_alpha\":[0.8],\"height\":[0.0],\"label\":[\"(9.421875, 9.593750]\"],\"line_alpha\":[1.0],\"line_color\":[\"black\"],\"width\":[0.171875],\"x\":[\"9.5078125\"],\"y\":[0.0]}},\"id\":\"510e20bf-fcbe-4cde-89bd-362ae2e2be0c\",\"type\":\"ColumnDataSource\"},{\"attributes\":{\"fill_alpha\":{\"field\":\"fill_alpha\"},\"fill_color\":{\"field\":\"color\"},\"height\":{\"field\":\"height\",\"units\":\"data\"},\"line_color\":{\"field\":\"line_color\"},\"width\":{\"field\":\"width\",\"units\":\"data\"},\"x\":{\"field\":\"x\"},\"y\":{\"field\":\"y\"}},\"id\":\"7aef9e66-f7ce-4f9e-8174-8fd95cbeced0\",\"type\":\"Rect\"},{\"attributes\":{\"callback\":null,\"column_names\":[\"line_color\",\"line_alpha\",\"color\",\"fill_alpha\",\"height\",\"width\",\"y\",\"x\",\"label\"],\"data\":{\"chart_index\":[\"(7.015625, 7.187500]\"],\"color\":[\"#f22c40\"],\"fill_alpha\":[0.8],\"height\":[0.0],\"label\":[\"(7.015625, 7.187500]\"],\"line_alpha\":[1.0],\"line_color\":[\"black\"],\"width\":[0.171875],\"x\":[\"7.1015625\"],\"y\":[0.0]}},\"id\":\"7e2aa18b-8754-467d-991d-06cc0e56ed56\",\"type\":\"ColumnDataSource\"},{\"attributes\":{\"fill_alpha\":{\"field\":\"fill_alpha\"},\"fill_color\":{\"field\":\"color\"},\"height\":{\"field\":\"height\",\"units\":\"data\"},\"line_color\":{\"field\":\"line_color\"},\"width\":{\"field\":\"width\",\"units\":\"data\"},\"x\":{\"field\":\"x\"},\"y\":{\"field\":\"y\"}},\"id\":\"403dc283-a945-4c2f-8ce8-14a038a2470f\",\"type\":\"Rect\"},{\"attributes\":{\"data_source\":{\"id\":\"6dc21316-dfb2-4fb3-8fba-db221a2d21f5\",\"type\":\"ColumnDataSource\"},\"glyph\":{\"id\":\"1770d057-6374-4c1c-91d9-29f18bfae33a\",\"type\":\"Rect\"},\"hover_glyph\":null,\"muted_glyph\":null},\"id\":\"98434e93-52da-408b-8d06-007c525f61c9\",\"type\":\"GlyphRenderer\"},{\"attributes\":{\"callback\":null,\"column_names\":[\"line_color\",\"line_alpha\",\"color\",\"fill_alpha\",\"height\",\"width\",\"y\",\"x\",\"label\"],\"data\":{\"chart_index\":[\"(8.906250, 9.078125]\"],\"color\":[\"#f22c40\"],\"fill_alpha\":[0.8],\"height\":[44.0],\"label\":[\"(8.906250, 9.078125]\"],\"line_alpha\":[1.0],\"line_color\":[\"black\"],\"width\":[0.171875],\"x\":[\"8.9921875\"],\"y\":[22.0]}},\"id\":\"b952eba7-800c-4996-9a17-4e1ccf81c09d\",\"type\":\"ColumnDataSource\"},{\"attributes\":{\"callback\":null,\"column_names\":[\"line_color\",\"line_alpha\",\"color\",\"fill_alpha\",\"height\",\"width\",\"y\",\"x\",\"label\"],\"data\":{\"chart_index\":[\"(11.312500, 11.484375]\"],\"color\":[\"#f22c40\"],\"fill_alpha\":[0.8],\"height\":[0.0],\"label\":[\"(11.312500, 11.484375]\"],\"line_alpha\":[1.0],\"line_color\":[\"black\"],\"width\":[0.171875],\"x\":[\"11.3984375\"],\"y\":[0.0]}},\"id\":\"32ca1379-6464-41b2-8ffd-7ccc39e59a1b\",\"type\":\"ColumnDataSource\"},{\"attributes\":{\"fill_alpha\":{\"field\":\"fill_alpha\"},\"fill_color\":{\"field\":\"color\"},\"height\":{\"field\":\"height\",\"units\":\"data\"},\"line_color\":{\"field\":\"line_color\"},\"width\":{\"field\":\"width\",\"units\":\"data\"},\"x\":{\"field\":\"x\"},\"y\":{\"field\":\"y\"}},\"id\":\"b46f55f7-61e4-4a12-b014-228be831747c\",\"type\":\"Rect\"},{\"attributes\":{\"bottom_units\":\"screen\",\"fill_alpha\":{\"value\":0.5},\"fill_color\":{\"value\":\"lightgrey\"},\"left_units\":\"screen\",\"level\":\"overlay\",\"line_alpha\":{\"value\":1.0},\"line_color\":{\"value\":\"black\"},\"line_dash\":[4,4],\"line_width\":{\"value\":2},\"plot\":null,\"render_mode\":\"css\",\"right_units\":\"screen\",\"top_units\":\"screen\"},\"id\":\"f2b53f14-eefe-442d-b3ba-25ff988d59d1\",\"type\":\"BoxAnnotation\"},{\"attributes\":{\"data_source\":{\"id\":\"085e1585-e20c-4439-af57-25b20cc910ef\",\"type\":\"ColumnDataSource\"},\"glyph\":{\"id\":\"39de223b-f5e2-400e-a479-e195b8a0e239\",\"type\":\"Rect\"},\"hover_glyph\":null,\"muted_glyph\":null},\"id\":\"f579ad84-acc0-4f4a-9484-fbb7406fc106\",\"type\":\"GlyphRenderer\"},{\"attributes\":{\"callback\":null,\"column_names\":[\"line_color\",\"line_alpha\",\"color\",\"fill_alpha\",\"height\",\"width\",\"y\",\"x\",\"label\"],\"data\":{\"chart_index\":[\"(8.734375, 8.906250]\"],\"color\":[\"#f22c40\"],\"fill_alpha\":[0.8],\"height\":[0.0],\"label\":[\"(8.734375, 8.906250]\"],\"line_alpha\":[1.0],\"line_color\":[\"black\"],\"width\":[0.171875],\"x\":[\"8.8203125\"],\"y\":[0.0]}},\"id\":\"8de9dcdb-1362-4509-9df4-c71d2d5890b6\",\"type\":\"ColumnDataSource\"},{\"attributes\":{\"data_source\":{\"id\":\"5a49c7c2-a594-4ea7-b55a-e27102224680\",\"type\":\"ColumnDataSource\"},\"glyph\":{\"id\":\"09a8dd35-fd6b-41da-9429-385ffbc35397\",\"type\":\"Rect\"},\"hover_glyph\":null,\"muted_glyph\":null},\"id\":\"a2074c23-8220-453b-9359-b265ba1af4bb\",\"type\":\"GlyphRenderer\"},{\"attributes\":{\"fill_alpha\":{\"field\":\"fill_alpha\"},\"fill_color\":{\"field\":\"color\"},\"height\":{\"field\":\"height\",\"units\":\"data\"},\"line_color\":{\"field\":\"line_color\"},\"width\":{\"field\":\"width\",\"units\":\"data\"},\"x\":{\"field\":\"x\"},\"y\":{\"field\":\"y\"}},\"id\":\"4c436f61-e733-442c-a35d-4a9565eb9472\",\"type\":\"Rect\"},{\"attributes\":{\"data_source\":{\"id\":\"b76b07ce-aca1-4067-b496-d5e093f43d31\",\"type\":\"ColumnDataSource\"},\"glyph\":{\"id\":\"4215a1b5-b72d-4fc9-9dba-9de86e17f05e\",\"type\":\"Rect\"},\"hover_glyph\":null,\"muted_glyph\":null},\"id\":\"6810a221-34ff-4767-bb98-b023860caa3f\",\"type\":\"GlyphRenderer\"},{\"attributes\":{\"callback\":null,\"column_names\":[\"line_color\",\"line_alpha\",\"color\",\"fill_alpha\",\"height\",\"width\",\"y\",\"x\",\"label\"],\"data\":{\"chart_index\":[\"(10.796875, 10.968750]\"],\"color\":[\"#f22c40\"],\"fill_alpha\":[0.8],\"height\":[0.0],\"label\":[\"(10.796875, 10.968750]\"],\"line_alpha\":[1.0],\"line_color\":[\"black\"],\"width\":[0.171875],\"x\":[\"10.8828125\"],\"y\":[0.0]}},\"id\":\"d425f934-d3d6-4a33-bd7e-9e19cd3c2809\",\"type\":\"ColumnDataSource\"},{\"attributes\":{\"fill_alpha\":{\"field\":\"fill_alpha\"},\"fill_color\":{\"field\":\"color\"},\"height\":{\"field\":\"height\",\"units\":\"data\"},\"line_color\":{\"field\":\"line_color\"},\"width\":{\"field\":\"width\",\"units\":\"data\"},\"x\":{\"field\":\"x\"},\"y\":{\"field\":\"y\"}},\"id\":\"62094de1-4c8b-4d49-9d59-d8c7c7603f17\",\"type\":\"Rect\"},{\"attributes\":{\"data_source\":{\"id\":\"8a058986-34ba-4cc2-b519-158ead720481\",\"type\":\"ColumnDataSource\"},\"glyph\":{\"id\":\"62094de1-4c8b-4d49-9d59-d8c7c7603f17\",\"type\":\"Rect\"},\"hover_glyph\":null,\"muted_glyph\":null},\"id\":\"676be7c1-e0f2-4ba3-8d01-5c88de481507\",\"type\":\"GlyphRenderer\"},{\"attributes\":{\"fill_alpha\":{\"field\":\"fill_alpha\"},\"fill_color\":{\"field\":\"color\"},\"height\":{\"field\":\"height\",\"units\":\"data\"},\"line_color\":{\"field\":\"line_color\"},\"width\":{\"field\":\"width\",\"units\":\"data\"},\"x\":{\"field\":\"x\"},\"y\":{\"field\":\"y\"}},\"id\":\"67b8e19a-3dfe-4ab3-b3e2-fa1cd9d4238d\",\"type\":\"Rect\"},{\"attributes\":{\"fill_alpha\":{\"field\":\"fill_alpha\"},\"fill_color\":{\"field\":\"color\"},\"height\":{\"field\":\"height\",\"units\":\"data\"},\"line_color\":{\"field\":\"line_color\"},\"width\":{\"field\":\"width\",\"units\":\"data\"},\"x\":{\"field\":\"x\"},\"y\":{\"field\":\"y\"}},\"id\":\"4b4e8d37-22d7-4629-b948-4aa6663a1c90\",\"type\":\"Rect\"},{\"attributes\":{\"fill_alpha\":{\"field\":\"fill_alpha\"},\"fill_color\":{\"field\":\"color\"},\"height\":{\"field\":\"height\",\"units\":\"data\"},\"line_color\":{\"field\":\"line_color\"},\"width\":{\"field\":\"width\",\"units\":\"data\"},\"x\":{\"field\":\"x\"},\"y\":{\"field\":\"y\"}},\"id\":\"efffbf31-a787-4d0f-b697-288664f7714c\",\"type\":\"Rect\"},{\"attributes\":{\"callback\":null,\"column_names\":[\"line_color\",\"line_alpha\",\"color\",\"fill_alpha\",\"height\",\"width\",\"y\",\"x\",\"label\"],\"data\":{\"chart_index\":[\"(5.468750, 5.640625]\"],\"color\":[\"#f22c40\"],\"fill_alpha\":[0.8],\"height\":[0.0],\"label\":[\"(5.468750, 5.640625]\"],\"line_alpha\":[1.0],\"line_color\":[\"black\"],\"width\":[0.171875],\"x\":[\"5.5546875\"],\"y\":[0.0]}},\"id\":\"e6f4aaf2-11e3-4888-92b8-94a0d03e6051\",\"type\":\"ColumnDataSource\"},{\"attributes\":{\"data_source\":{\"id\":\"00514a06-9a5a-4256-8399-0d0b701e0053\",\"type\":\"ColumnDataSource\"},\"glyph\":{\"id\":\"0f7f42c7-c01c-4c1d-9ad3-8a4d3f46426e\",\"type\":\"Rect\"},\"hover_glyph\":null,\"muted_glyph\":null},\"id\":\"9d0d2fd3-b47b-4ead-83fa-1f51bde2d424\",\"type\":\"GlyphRenderer\"},{\"attributes\":{},\"id\":\"bc58c2dd-06f3-40e9-810f-f4e65f573ada\",\"type\":\"BasicTicker\"},{\"attributes\":{\"callback\":null,\"column_names\":[\"line_color\",\"line_alpha\",\"color\",\"fill_alpha\",\"height\",\"width\",\"y\",\"x\",\"label\"],\"data\":{\"chart_index\":[\"(6.671875, 6.843750]\"],\"color\":[\"#f22c40\"],\"fill_alpha\":[0.8],\"height\":[0.0],\"label\":[\"(6.671875, 6.843750]\"],\"line_alpha\":[1.0],\"line_color\":[\"black\"],\"width\":[0.171875],\"x\":[\"6.7578125\"],\"y\":[0.0]}},\"id\":\"17657ac9-e16a-40ab-b3c7-8588b0e3f08c\",\"type\":\"ColumnDataSource\"},{\"attributes\":{\"fill_alpha\":{\"field\":\"fill_alpha\"},\"fill_color\":{\"field\":\"color\"},\"height\":{\"field\":\"height\",\"units\":\"data\"},\"line_color\":{\"field\":\"line_color\"},\"width\":{\"field\":\"width\",\"units\":\"data\"},\"x\":{\"field\":\"x\"},\"y\":{\"field\":\"y\"}},\"id\":\"1770d057-6374-4c1c-91d9-29f18bfae33a\",\"type\":\"Rect\"},{\"attributes\":{\"fill_alpha\":{\"field\":\"fill_alpha\"},\"fill_color\":{\"field\":\"color\"},\"height\":{\"field\":\"height\",\"units\":\"data\"},\"line_color\":{\"field\":\"line_color\"},\"width\":{\"field\":\"width\",\"units\":\"data\"},\"x\":{\"field\":\"x\"},\"y\":{\"field\":\"y\"}},\"id\":\"11113e65-5c46-48db-8033-d12295fd41c1\",\"type\":\"Rect\"},{\"attributes\":{\"callback\":null,\"column_names\":[\"line_color\",\"line_alpha\",\"color\",\"fill_alpha\",\"height\",\"width\",\"y\",\"x\",\"label\"],\"data\":{\"chart_index\":[\"(8.390625, 8.562500]\"],\"color\":[\"#f22c40\"],\"fill_alpha\":[0.8],\"height\":[0.0],\"label\":[\"(8.390625, 8.562500]\"],\"line_alpha\":[1.0],\"line_color\":[\"black\"],\"width\":[0.171875],\"x\":[\"8.4765625\"],\"y\":[0.0]}},\"id\":\"5a49c7c2-a594-4ea7-b55a-e27102224680\",\"type\":\"ColumnDataSource\"},{\"attributes\":{\"data_source\":{\"id\":\"52330452-f070-43f2-b0ec-e0f82b591a4a\",\"type\":\"ColumnDataSource\"},\"glyph\":{\"id\":\"45432002-9e50-4293-a466-c5f6314df5a2\",\"type\":\"Rect\"},\"hover_glyph\":null,\"muted_glyph\":null},\"id\":\"486cb8c5-dfd9-42b1-b413-23d6818fd755\",\"type\":\"GlyphRenderer\"},{\"attributes\":{\"data_source\":{\"id\":\"737ba4a9-9dd7-4b50-a2ba-fa40c2348765\",\"type\":\"ColumnDataSource\"},\"glyph\":{\"id\":\"d502697e-48d7-4618-b2c7-8cb4b640f834\",\"type\":\"Rect\"},\"hover_glyph\":null,\"muted_glyph\":null},\"id\":\"acb6fe65-3155-4136-a4e7-a46191a01535\",\"type\":\"GlyphRenderer\"},{\"attributes\":{\"fill_alpha\":{\"field\":\"fill_alpha\"},\"fill_color\":{\"field\":\"color\"},\"height\":{\"field\":\"height\",\"units\":\"data\"},\"line_color\":{\"field\":\"line_color\"},\"width\":{\"field\":\"width\",\"units\":\"data\"},\"x\":{\"field\":\"x\"},\"y\":{\"field\":\"y\"}},\"id\":\"ce469129-ea99-4f1e-8bd7-5043317336a9\",\"type\":\"Rect\"},{\"attributes\":{},\"id\":\"64693b09-4ecc-4223-ba7b-231174ac3abd\",\"type\":\"LinearScale\"},{\"attributes\":{\"plot\":{\"id\":\"dba8914e-668e-426f-8d1b-362dfe0281c1\",\"subtype\":\"Chart\",\"type\":\"Plot\"}},\"id\":\"43f4ed02-e4ee-4c59-962a-029e472cb590\",\"type\":\"ResetTool\"},{\"attributes\":{\"data_source\":{\"id\":\"06ec5c6b-4d04-47c8-9060-a6615bd91091\",\"type\":\"ColumnDataSource\"},\"glyph\":{\"id\":\"febf8de2-90ca-425d-954d-87d4e65b0f72\",\"type\":\"Rect\"},\"hover_glyph\":null,\"muted_glyph\":null},\"id\":\"91ca931f-c3f7-4792-8ebb-11ce4ed2fcc5\",\"type\":\"GlyphRenderer\"},{\"attributes\":{\"callback\":null,\"column_names\":[\"line_color\",\"line_alpha\",\"color\",\"fill_alpha\",\"height\",\"width\",\"y\",\"x\",\"label\"],\"data\":{\"chart_index\":[\"(11.656250, 11.828125]\"],\"color\":[\"#f22c40\"],\"fill_alpha\":[0.8],\"height\":[0.0],\"label\":[\"(11.656250, 11.828125]\"],\"line_alpha\":[1.0],\"line_color\":[\"black\"],\"width\":[0.171875],\"x\":[\"11.7421875\"],\"y\":[0.0]}},\"id\":\"5669a86b-08c1-41c4-8553-9fcf18822317\",\"type\":\"ColumnDataSource\"},{\"attributes\":{\"fill_alpha\":{\"field\":\"fill_alpha\"},\"fill_color\":{\"field\":\"color\"},\"height\":{\"field\":\"height\",\"units\":\"data\"},\"line_color\":{\"field\":\"line_color\"},\"width\":{\"field\":\"width\",\"units\":\"data\"},\"x\":{\"field\":\"x\"},\"y\":{\"field\":\"y\"}},\"id\":\"2f511f4c-8aa3-441a-a1ff-e7df8169fbfd\",\"type\":\"Rect\"},{\"attributes\":{\"fill_alpha\":{\"field\":\"fill_alpha\"},\"fill_color\":{\"field\":\"color\"},\"height\":{\"field\":\"height\",\"units\":\"data\"},\"line_color\":{\"field\":\"line_color\"},\"width\":{\"field\":\"width\",\"units\":\"data\"},\"x\":{\"field\":\"x\"},\"y\":{\"field\":\"y\"}},\"id\":\"72b21773-18fb-4728-9757-047995e6e444\",\"type\":\"Rect\"},{\"attributes\":{\"plot\":{\"id\":\"dba8914e-668e-426f-8d1b-362dfe0281c1\",\"subtype\":\"Chart\",\"type\":\"Plot\"}},\"id\":\"198bb348-b8e2-41ed-bb4e-9fbb4deea347\",\"type\":\"SaveTool\"},{\"attributes\":{\"fill_alpha\":{\"field\":\"fill_alpha\"},\"fill_color\":{\"field\":\"color\"},\"height\":{\"field\":\"height\",\"units\":\"data\"},\"line_color\":{\"field\":\"line_color\"},\"width\":{\"field\":\"width\",\"units\":\"data\"},\"x\":{\"field\":\"x\"},\"y\":{\"field\":\"y\"}},\"id\":\"64c086b4-3ebc-45be-b089-b12520db83a9\",\"type\":\"Rect\"},{\"attributes\":{\"fill_alpha\":{\"field\":\"fill_alpha\"},\"fill_color\":{\"field\":\"color\"},\"height\":{\"field\":\"height\",\"units\":\"data\"},\"line_color\":{\"field\":\"line_color\"},\"width\":{\"field\":\"width\",\"units\":\"data\"},\"x\":{\"field\":\"x\"},\"y\":{\"field\":\"y\"}},\"id\":\"39de223b-f5e2-400e-a479-e195b8a0e239\",\"type\":\"Rect\"},{\"attributes\":{\"fill_alpha\":{\"field\":\"fill_alpha\"},\"fill_color\":{\"field\":\"color\"},\"height\":{\"field\":\"height\",\"units\":\"data\"},\"line_color\":{\"field\":\"line_color\"},\"width\":{\"field\":\"width\",\"units\":\"data\"},\"x\":{\"field\":\"x\"},\"y\":{\"field\":\"y\"}},\"id\":\"44f61d7c-1632-4fb8-a37c-4f1462289c0d\",\"type\":\"Rect\"},{\"attributes\":{\"data_source\":{\"id\":\"591484d8-4b24-4f26-b571-8133313b9c72\",\"type\":\"ColumnDataSource\"},\"glyph\":{\"id\":\"e879d8ed-a9f4-4afd-bbad-1ed115eac56d\",\"type\":\"Rect\"},\"hover_glyph\":null,\"muted_glyph\":null},\"id\":\"9f1fc981-2d28-4a87-905b-41f30bb17041\",\"type\":\"GlyphRenderer\"},{\"attributes\":{\"fill_alpha\":{\"field\":\"fill_alpha\"},\"fill_color\":{\"field\":\"color\"},\"height\":{\"field\":\"height\",\"units\":\"data\"},\"line_color\":{\"field\":\"line_color\"},\"width\":{\"field\":\"width\",\"units\":\"data\"},\"x\":{\"field\":\"x\"},\"y\":{\"field\":\"y\"}},\"id\":\"4215a1b5-b72d-4fc9-9dba-9de86e17f05e\",\"type\":\"Rect\"},{\"attributes\":{\"callback\":null,\"column_names\":[\"line_color\",\"line_alpha\",\"color\",\"fill_alpha\",\"height\",\"width\",\"y\",\"x\",\"label\"],\"data\":{\"chart_index\":[\"(2.546875, 2.718750]\"],\"color\":[\"#f22c40\"],\"fill_alpha\":[0.8],\"height\":[0.0],\"label\":[\"(2.546875, 2.718750]\"],\"line_alpha\":[1.0],\"line_color\":[\"black\"],\"width\":[0.171875],\"x\":[\"2.6328125\"],\"y\":[0.0]}},\"id\":\"6b1c5a21-b904-4943-902a-e24ce6e17b8c\",\"type\":\"ColumnDataSource\"},{\"attributes\":{\"callback\":null,\"column_names\":[\"line_color\",\"line_alpha\",\"color\",\"fill_alpha\",\"height\",\"width\",\"y\",\"x\",\"label\"],\"data\":{\"chart_index\":[\"(11.828125, 12.000000]\"],\"color\":[\"#f22c40\"],\"fill_alpha\":[0.8],\"height\":[11.0],\"label\":[\"(11.828125, 12.000000]\"],\"line_alpha\":[1.0],\"line_color\":[\"black\"],\"width\":[0.171875],\"x\":[\"11.9140625\"],\"y\":[5.5]}},\"id\":\"b5cf8e39-f93f-4ee2-b235-c85c4add686b\",\"type\":\"ColumnDataSource\"},{\"attributes\":{\"fill_alpha\":{\"field\":\"fill_alpha\"},\"fill_color\":{\"field\":\"color\"},\"height\":{\"field\":\"height\",\"units\":\"data\"},\"line_color\":{\"field\":\"line_color\"},\"width\":{\"field\":\"width\",\"units\":\"data\"},\"x\":{\"field\":\"x\"},\"y\":{\"field\":\"y\"}},\"id\":\"6c0c352d-2515-4eee-b324-abfb228f30d6\",\"type\":\"Rect\"},{\"attributes\":{\"callback\":null,\"column_names\":[\"line_color\",\"line_alpha\",\"color\",\"fill_alpha\",\"height\",\"width\",\"y\",\"x\",\"label\"],\"data\":{\"chart_index\":[\"(4.781250, 4.953125]\"],\"color\":[\"#f22c40\"],\"fill_alpha\":[0.8],\"height\":[0.0],\"label\":[\"(4.781250, 4.953125]\"],\"line_alpha\":[1.0],\"line_color\":[\"black\"],\"width\":[0.171875],\"x\":[\"4.8671875\"],\"y\":[0.0]}},\"id\":\"00514a06-9a5a-4256-8399-0d0b701e0053\",\"type\":\"ColumnDataSource\"},{\"attributes\":{\"fill_alpha\":{\"field\":\"fill_alpha\"},\"fill_color\":{\"field\":\"color\"},\"height\":{\"field\":\"height\",\"units\":\"data\"},\"line_color\":{\"field\":\"line_color\"},\"width\":{\"field\":\"width\",\"units\":\"data\"},\"x\":{\"field\":\"x\"},\"y\":{\"field\":\"y\"}},\"id\":\"d6f1199f-b27b-4862-ac6d-adc59ad2253b\",\"type\":\"Rect\"},{\"attributes\":{\"data_source\":{\"id\":\"536121bc-68af-4413-9735-9225f4da6e70\",\"type\":\"ColumnDataSource\"},\"glyph\":{\"id\":\"5217cd35-be74-4f64-9ceb-51907fa822a4\",\"type\":\"Rect\"},\"hover_glyph\":null,\"muted_glyph\":null},\"id\":\"a1229b9f-62d3-4a45-8b1c-09a81575e96e\",\"type\":\"GlyphRenderer\"},{\"attributes\":{\"fill_alpha\":{\"field\":\"fill_alpha\"},\"fill_color\":{\"field\":\"color\"},\"height\":{\"field\":\"height\",\"units\":\"data\"},\"line_color\":{\"field\":\"line_color\"},\"width\":{\"field\":\"width\",\"units\":\"data\"},\"x\":{\"field\":\"x\"},\"y\":{\"field\":\"y\"}},\"id\":\"898900a3-4443-4962-9f92-4a614e314dd1\",\"type\":\"Rect\"},{\"attributes\":{\"data_source\":{\"id\":\"aed5b3b5-0ab6-4f26-a722-a3c1e0e583f8\",\"type\":\"ColumnDataSource\"},\"glyph\":{\"id\":\"f6b6544d-48cd-4ce7-9a81-dd2512b009b7\",\"type\":\"Rect\"},\"hover_glyph\":null,\"muted_glyph\":null},\"id\":\"25221880-ff4b-4448-886c-c60b30dadae9\",\"type\":\"GlyphRenderer\"},{\"attributes\":{\"data_source\":{\"id\":\"d425f934-d3d6-4a33-bd7e-9e19cd3c2809\",\"type\":\"ColumnDataSource\"},\"glyph\":{\"id\":\"efffbf31-a787-4d0f-b697-288664f7714c\",\"type\":\"Rect\"},\"hover_glyph\":null,\"muted_glyph\":null},\"id\":\"b7ca291c-495d-49ea-becf-c864c7c3dd04\",\"type\":\"GlyphRenderer\"},{\"attributes\":{\"fill_alpha\":{\"field\":\"fill_alpha\"},\"fill_color\":{\"field\":\"color\"},\"height\":{\"field\":\"height\",\"units\":\"data\"},\"line_color\":{\"field\":\"line_color\"},\"width\":{\"field\":\"width\",\"units\":\"data\"},\"x\":{\"field\":\"x\"},\"y\":{\"field\":\"y\"}},\"id\":\"f6b6544d-48cd-4ce7-9a81-dd2512b009b7\",\"type\":\"Rect\"},{\"attributes\":{\"callback\":null,\"column_names\":[\"line_color\",\"line_alpha\",\"color\",\"fill_alpha\",\"height\",\"width\",\"y\",\"x\",\"label\"],\"data\":{\"chart_index\":[\"(10.968750, 11.140625]\"],\"color\":[\"#f22c40\"],\"fill_alpha\":[0.8],\"height\":[9.0],\"label\":[\"(10.968750, 11.140625]\"],\"line_alpha\":[1.0],\"line_color\":[\"black\"],\"width\":[0.171875],\"x\":[\"11.0546875\"],\"y\":[4.5]}},\"id\":\"06bdc510-dd66-42fa-a3d7-3cdc0c672ca4\",\"type\":\"ColumnDataSource\"},{\"attributes\":{\"callback\":null,\"column_names\":[\"line_color\",\"line_alpha\",\"color\",\"fill_alpha\",\"height\",\"width\",\"y\",\"x\",\"label\"],\"data\":{\"chart_index\":[\"(5.640625, 5.812500]\"],\"color\":[\"#f22c40\"],\"fill_alpha\":[0.8],\"height\":[0.0],\"label\":[\"(5.640625, 5.812500]\"],\"line_alpha\":[1.0],\"line_color\":[\"black\"],\"width\":[0.171875],\"x\":[\"5.7265625\"],\"y\":[0.0]}},\"id\":\"a96db02e-5321-4318-be8c-629431e07f40\",\"type\":\"ColumnDataSource\"},{\"attributes\":{\"callback\":null,\"column_names\":[\"line_color\",\"line_alpha\",\"color\",\"fill_alpha\",\"height\",\"width\",\"y\",\"x\",\"label\"],\"data\":{\"chart_index\":[\"(9.078125, 9.250000]\"],\"color\":[\"#f22c40\"],\"fill_alpha\":[0.8],\"height\":[0.0],\"label\":[\"(9.078125, 9.250000]\"],\"line_alpha\":[1.0],\"line_color\":[\"black\"],\"width\":[0.171875],\"x\":[\"9.1640625\"],\"y\":[0.0]}},\"id\":\"13645093-1631-4928-b45b-8e003a734c1d\",\"type\":\"ColumnDataSource\"},{\"attributes\":{\"fill_alpha\":{\"field\":\"fill_alpha\"},\"fill_color\":{\"field\":\"color\"},\"height\":{\"field\":\"height\",\"units\":\"data\"},\"line_color\":{\"field\":\"line_color\"},\"width\":{\"field\":\"width\",\"units\":\"data\"},\"x\":{\"field\":\"x\"},\"y\":{\"field\":\"y\"}},\"id\":\"ee687022-8350-4e15-9c5d-621262a74c2b\",\"type\":\"Rect\"},{\"attributes\":{\"fill_alpha\":{\"field\":\"fill_alpha\"},\"fill_color\":{\"field\":\"color\"},\"height\":{\"field\":\"height\",\"units\":\"data\"},\"line_color\":{\"field\":\"line_color\"},\"width\":{\"field\":\"width\",\"units\":\"data\"},\"x\":{\"field\":\"x\"},\"y\":{\"field\":\"y\"}},\"id\":\"5217cd35-be74-4f64-9ceb-51907fa822a4\",\"type\":\"Rect\"},{\"attributes\":{\"fill_alpha\":{\"field\":\"fill_alpha\"},\"fill_color\":{\"field\":\"color\"},\"height\":{\"field\":\"height\",\"units\":\"data\"},\"line_color\":{\"field\":\"line_color\"},\"width\":{\"field\":\"width\",\"units\":\"data\"},\"x\":{\"field\":\"x\"},\"y\":{\"field\":\"y\"}},\"id\":\"34dc4d69-d75b-43ad-8670-933f3bdd3205\",\"type\":\"Rect\"},{\"attributes\":{\"data_source\":{\"id\":\"3bb8592c-3560-4678-89b7-7d79ad53be3e\",\"type\":\"ColumnDataSource\"},\"glyph\":{\"id\":\"b46f55f7-61e4-4a12-b014-228be831747c\",\"type\":\"Rect\"},\"hover_glyph\":null,\"muted_glyph\":null},\"id\":\"1c154cf0-2dd8-4d57-918d-8d4f2c50f6b4\",\"type\":\"GlyphRenderer\"},{\"attributes\":{\"callback\":null,\"column_names\":[\"line_color\",\"line_alpha\",\"color\",\"fill_alpha\",\"height\",\"width\",\"y\",\"x\",\"label\"],\"data\":{\"chart_index\":[\"(3.406250, 3.578125]\"],\"color\":[\"#f22c40\"],\"fill_alpha\":[0.8],\"height\":[0.0],\"label\":[\"(3.406250, 3.578125]\"],\"line_alpha\":[1.0],\"line_color\":[\"black\"],\"width\":[0.171875],\"x\":[\"3.4921875\"],\"y\":[0.0]}},\"id\":\"fac6760d-c1e4-42e5-b0cd-e9b0addb72e4\",\"type\":\"ColumnDataSource\"},{\"attributes\":{\"data_source\":{\"id\":\"ea74ca8e-a658-494f-b4b4-68c3559c6cb7\",\"type\":\"ColumnDataSource\"},\"glyph\":{\"id\":\"2f511f4c-8aa3-441a-a1ff-e7df8169fbfd\",\"type\":\"Rect\"},\"hover_glyph\":null,\"muted_glyph\":null},\"id\":\"9b3ed83d-c90b-46a3-8806-af4aaa650f26\",\"type\":\"GlyphRenderer\"},{\"attributes\":{\"data_source\":{\"id\":\"0eea55c6-7222-4d65-a20d-0fa764d1959b\",\"type\":\"ColumnDataSource\"},\"glyph\":{\"id\":\"6c0c352d-2515-4eee-b324-abfb228f30d6\",\"type\":\"Rect\"},\"hover_glyph\":null,\"muted_glyph\":null},\"id\":\"c9ffe09d-bd81-4d04-a1b9-bb22a677c065\",\"type\":\"GlyphRenderer\"},{\"attributes\":{\"callback\":null,\"column_names\":[\"line_color\",\"line_alpha\",\"color\",\"fill_alpha\",\"height\",\"width\",\"y\",\"x\",\"label\"],\"data\":{\"chart_index\":[\"(2.031250, 2.203125]\"],\"color\":[\"#f22c40\"],\"fill_alpha\":[0.8],\"height\":[0.0],\"label\":[\"(2.031250, 2.203125]\"],\"line_alpha\":[1.0],\"line_color\":[\"black\"],\"width\":[0.171875],\"x\":[\"2.1171875\"],\"y\":[0.0]}},\"id\":\"0eea55c6-7222-4d65-a20d-0fa764d1959b\",\"type\":\"ColumnDataSource\"},{\"attributes\":{\"callback\":null,\"column_names\":[\"line_color\",\"line_alpha\",\"color\",\"fill_alpha\",\"height\",\"width\",\"y\",\"x\",\"label\"],\"data\":{\"chart_index\":[\"(3.062500, 3.234375]\"],\"color\":[\"#f22c40\"],\"fill_alpha\":[0.8],\"height\":[0.0],\"label\":[\"(3.062500, 3.234375]\"],\"line_alpha\":[1.0],\"line_color\":[\"black\"],\"width\":[0.171875],\"x\":[\"3.1484375\"],\"y\":[0.0]}},\"id\":\"6dc21316-dfb2-4fb3-8fba-db221a2d21f5\",\"type\":\"ColumnDataSource\"},{\"attributes\":{\"fill_alpha\":{\"field\":\"fill_alpha\"},\"fill_color\":{\"field\":\"color\"},\"height\":{\"field\":\"height\",\"units\":\"data\"},\"line_color\":{\"field\":\"line_color\"},\"width\":{\"field\":\"width\",\"units\":\"data\"},\"x\":{\"field\":\"x\"},\"y\":{\"field\":\"y\"}},\"id\":\"c2ec63a9-533c-4f0b-ae05-827021ff9c56\",\"type\":\"Rect\"},{\"attributes\":{\"axis_label\":\"Frequency\",\"formatter\":{\"id\":\"90622f51-3143-447f-8d52-bf327d51744f\",\"type\":\"BasicTickFormatter\"},\"plot\":{\"id\":\"dba8914e-668e-426f-8d1b-362dfe0281c1\",\"subtype\":\"Chart\",\"type\":\"Plot\"},\"ticker\":{\"id\":\"0328adee-77d1-4e7b-bfe4-4fe1757d985c\",\"type\":\"BasicTicker\"}},\"id\":\"e28899d2-428c-499e-b132-053dfbb4e2ee\",\"type\":\"LinearAxis\"},{\"attributes\":{\"data_source\":{\"id\":\"ddbad180-5e60-4cf3-a867-93acade5a82e\",\"type\":\"ColumnDataSource\"},\"glyph\":{\"id\":\"b3a6c929-f7b3-4564-8cc3-80deec0c13a4\",\"type\":\"Rect\"},\"hover_glyph\":null,\"muted_glyph\":null},\"id\":\"4b2b0fa6-5992-4cd4-ad2c-64bcb17c2662\",\"type\":\"GlyphRenderer\"},{\"attributes\":{\"callback\":null,\"column_names\":[\"line_color\",\"line_alpha\",\"color\",\"fill_alpha\",\"height\",\"width\",\"y\",\"x\",\"label\"],\"data\":{\"chart_index\":[\"(6.156250, 6.328125]\"],\"color\":[\"#f22c40\"],\"fill_alpha\":[0.8],\"height\":[0.0],\"label\":[\"(6.156250, 6.328125]\"],\"line_alpha\":[1.0],\"line_color\":[\"black\"],\"width\":[0.171875],\"x\":[\"6.2421875\"],\"y\":[0.0]}},\"id\":\"334d745d-b6bb-4f9c-9d7c-1443cd06b20c\",\"type\":\"ColumnDataSource\"},{\"attributes\":{\"callback\":null,\"column_names\":[\"line_color\",\"line_alpha\",\"color\",\"fill_alpha\",\"height\",\"width\",\"y\",\"x\",\"label\"],\"data\":{\"chart_index\":[\"(3.750000, 3.921875]\"],\"color\":[\"#f22c40\"],\"fill_alpha\":[0.8],\"height\":[0.0],\"label\":[\"(3.750000, 3.921875]\"],\"line_alpha\":[1.0],\"line_color\":[\"black\"],\"width\":[0.171875],\"x\":[\"3.8359375\"],\"y\":[0.0]}},\"id\":\"e809b811-f3bc-4415-985f-59372bc9dc4c\",\"type\":\"ColumnDataSource\"},{\"attributes\":{\"fill_alpha\":{\"field\":\"fill_alpha\"},\"fill_color\":{\"field\":\"color\"},\"height\":{\"field\":\"height\",\"units\":\"data\"},\"line_color\":{\"field\":\"line_color\"},\"width\":{\"field\":\"width\",\"units\":\"data\"},\"x\":{\"field\":\"x\"},\"y\":{\"field\":\"y\"}},\"id\":\"0af041d6-498a-4586-9d86-d2f8e083a7ed\",\"type\":\"Rect\"},{\"attributes\":{\"callback\":null,\"column_names\":[\"line_color\",\"line_alpha\",\"color\",\"fill_alpha\",\"height\",\"width\",\"y\",\"x\",\"label\"],\"data\":{\"chart_index\":[\"(10.281250, 10.453125]\"],\"color\":[\"#f22c40\"],\"fill_alpha\":[0.8],\"height\":[0.0],\"label\":[\"(10.281250, 10.453125]\"],\"line_alpha\":[1.0],\"line_color\":[\"black\"],\"width\":[0.171875],\"x\":[\"10.3671875\"],\"y\":[0.0]}},\"id\":\"cb4f169d-3dda-4eff-a86c-d6f95ae635cb\",\"type\":\"ColumnDataSource\"},{\"attributes\":{\"fill_alpha\":{\"field\":\"fill_alpha\"},\"fill_color\":{\"field\":\"color\"},\"height\":{\"field\":\"height\",\"units\":\"data\"},\"line_color\":{\"field\":\"line_color\"},\"width\":{\"field\":\"width\",\"units\":\"data\"},\"x\":{\"field\":\"x\"},\"y\":{\"field\":\"y\"}},\"id\":\"811952df-3c67-4616-a793-3b5dc327d5b8\",\"type\":\"Rect\"},{\"attributes\":{\"active_drag\":\"auto\",\"active_inspect\":\"auto\",\"active_scroll\":\"auto\",\"active_tap\":\"auto\",\"tools\":[{\"id\":\"f4fc7722-3875-4c97-af7f-a28e54d9af86\",\"type\":\"PanTool\"},{\"id\":\"04c4dd2e-621f-43e7-a8ce-d627ff983198\",\"type\":\"WheelZoomTool\"},{\"id\":\"3b3c89bf-f361-4364-aa1f-20508387265c\",\"type\":\"BoxZoomTool\"},{\"id\":\"198bb348-b8e2-41ed-bb4e-9fbb4deea347\",\"type\":\"SaveTool\"},{\"id\":\"43f4ed02-e4ee-4c59-962a-029e472cb590\",\"type\":\"ResetTool\"},{\"id\":\"18ea7611-3e74-4798-8609-888741ecee90\",\"type\":\"HelpTool\"}]},\"id\":\"7107a2c2-0fd3-44b1-ad67-542e1e4302d7\",\"type\":\"Toolbar\"},{\"attributes\":{\"data_source\":{\"id\":\"3dc5b350-869a-4cc3-8f02-5b930b880546\",\"type\":\"ColumnDataSource\"},\"glyph\":{\"id\":\"c2ec63a9-533c-4f0b-ae05-827021ff9c56\",\"type\":\"Rect\"},\"hover_glyph\":null,\"muted_glyph\":null},\"id\":\"fe035d83-af6a-4c8a-9766-f70815d8f0aa\",\"type\":\"GlyphRenderer\"},{\"attributes\":{\"data_source\":{\"id\":\"bfeab837-bbf3-4951-bc5e-d25a2fd72982\",\"type\":\"ColumnDataSource\"},\"glyph\":{\"id\":\"67b8e19a-3dfe-4ab3-b3e2-fa1cd9d4238d\",\"type\":\"Rect\"},\"hover_glyph\":null,\"muted_glyph\":null},\"id\":\"7421a002-da6c-489c-b827-85bf1362c37c\",\"type\":\"GlyphRenderer\"},{\"attributes\":{\"plot\":null,\"text\":\"Firework Complaints by Month\"},\"id\":\"683bd4ea-2c3a-433a-8b26-a890f22996de\",\"type\":\"Title\"},{\"attributes\":{\"data_source\":{\"id\":\"e809b811-f3bc-4415-985f-59372bc9dc4c\",\"type\":\"ColumnDataSource\"},\"glyph\":{\"id\":\"647f0e23-4d20-4d46-90ef-e62a17f456a1\",\"type\":\"Rect\"},\"hover_glyph\":null,\"muted_glyph\":null},\"id\":\"be22906b-2fb9-429f-9d9c-b6cbc828c74b\",\"type\":\"GlyphRenderer\"},{\"attributes\":{\"fill_alpha\":{\"field\":\"fill_alpha\"},\"fill_color\":{\"field\":\"color\"},\"height\":{\"field\":\"height\",\"units\":\"data\"},\"line_color\":{\"field\":\"line_color\"},\"width\":{\"field\":\"width\",\"units\":\"data\"},\"x\":{\"field\":\"x\"},\"y\":{\"field\":\"y\"}},\"id\":\"6490aa0b-0be7-4489-aefe-dcdae3a87145\",\"type\":\"Rect\"},{\"attributes\":{\"fill_alpha\":{\"field\":\"fill_alpha\"},\"fill_color\":{\"field\":\"color\"},\"height\":{\"field\":\"height\",\"units\":\"data\"},\"line_color\":{\"field\":\"line_color\"},\"width\":{\"field\":\"width\",\"units\":\"data\"},\"x\":{\"field\":\"x\"},\"y\":{\"field\":\"y\"}},\"id\":\"2ad83d97-7b65-4332-a9ad-5383c370543d\",\"type\":\"Rect\"},{\"attributes\":{\"fill_alpha\":{\"field\":\"fill_alpha\"},\"fill_color\":{\"field\":\"color\"},\"height\":{\"field\":\"height\",\"units\":\"data\"},\"line_color\":{\"field\":\"line_color\"},\"width\":{\"field\":\"width\",\"units\":\"data\"},\"x\":{\"field\":\"x\"},\"y\":{\"field\":\"y\"}},\"id\":\"0f7f42c7-c01c-4c1d-9ad3-8a4d3f46426e\",\"type\":\"Rect\"},{\"attributes\":{\"data_source\":{\"id\":\"5669a86b-08c1-41c4-8553-9fcf18822317\",\"type\":\"ColumnDataSource\"},\"glyph\":{\"id\":\"64c086b4-3ebc-45be-b089-b12520db83a9\",\"type\":\"Rect\"},\"hover_glyph\":null,\"muted_glyph\":null},\"id\":\"4fcb77aa-dbdd-4df0-b92d-48aa987c69ee\",\"type\":\"GlyphRenderer\"},{\"attributes\":{\"data_source\":{\"id\":\"886ae792-e60c-4b22-9a85-32a90654d34c\",\"type\":\"ColumnDataSource\"},\"glyph\":{\"id\":\"6490aa0b-0be7-4489-aefe-dcdae3a87145\",\"type\":\"Rect\"},\"hover_glyph\":null,\"muted_glyph\":null},\"id\":\"59557c1a-6ec3-40c6-908d-b9ff5d7f530c\",\"type\":\"GlyphRenderer\"},{\"attributes\":{\"data_source\":{\"id\":\"986750df-3ebb-4d0b-8107-3f1af11e5af8\",\"type\":\"ColumnDataSource\"},\"glyph\":{\"id\":\"4b4e8d37-22d7-4629-b948-4aa6663a1c90\",\"type\":\"Rect\"},\"hover_glyph\":null,\"muted_glyph\":null},\"id\":\"81d3292a-7d93-4629-87d6-4dba04736713\",\"type\":\"GlyphRenderer\"},{\"attributes\":{},\"id\":\"90622f51-3143-447f-8d52-bf327d51744f\",\"type\":\"BasicTickFormatter\"}],\"root_ids\":[\"dba8914e-668e-426f-8d1b-362dfe0281c1\"]},\"title\":\"Bokeh Application\",\"version\":\"0.12.6\"}};\n",
       "            var render_items = [{\"docid\":\"7bab4e7c-0575-4484-9429-3704318ebbac\",\"elementid\":\"63636c9c-4653-4688-ad33-30be1dc615f2\",\"modelid\":\"dba8914e-668e-426f-8d1b-362dfe0281c1\",\"notebook_comms_target\":\"3c4156bb-cc2f-45ef-a8d0-996e04ee97e6\"}];\n",
       "            \n",
       "            Bokeh.embed.embed_items(docs_json, render_items);\n",
       "          };\n",
       "          if (document.readyState != \"loading\") fn();\n",
       "          else document.addEventListener(\"DOMContentLoaded\", fn);\n",
       "        })();\n",
       "      },\n",
       "      function(Bokeh) {\n",
       "      }\n",
       "    ];\n",
       "  \n",
       "    function run_inline_js() {\n",
       "      \n",
       "      if ((window.Bokeh !== undefined) || (force === true)) {\n",
       "        for (var i = 0; i < inline_js.length; i++) {\n",
       "          inline_js[i](window.Bokeh);\n",
       "        }if (force === true) {\n",
       "          display_loaded();\n",
       "        }} else if (Date.now() < window._bokeh_timeout) {\n",
       "        setTimeout(run_inline_js, 100);\n",
       "      } else if (!window._bokeh_failed_load) {\n",
       "        console.log(\"Bokeh: BokehJS failed to load within specified timeout.\");\n",
       "        window._bokeh_failed_load = true;\n",
       "      } else if (force !== true) {\n",
       "        var cell = $(document.getElementById(\"63636c9c-4653-4688-ad33-30be1dc615f2\")).parents('.cell').data().cell;\n",
       "        cell.output_area.append_execute_result(NB_LOAD_WARNING)\n",
       "      }\n",
       "  \n",
       "    }\n",
       "  \n",
       "    if (window._bokeh_is_loading === 0) {\n",
       "      console.log(\"Bokeh: BokehJS loaded, going straight to plotting\");\n",
       "      run_inline_js();\n",
       "    } else {\n",
       "      load_libs(js_urls, function() {\n",
       "        console.log(\"Bokeh: BokehJS plotting callback run at\", now());\n",
       "        run_inline_js();\n",
       "      });\n",
       "    }\n",
       "  }(this));\n",
       "</script>"
      ]
     },
     "metadata": {},
     "output_type": "display_data"
    }
   ],
   "source": [
    "# List of months by number.\n",
    "# timestamps = [timestring.parse(row[2]) for row in df.itertuples()]\n",
    "df['month'] = df['created_date'].apply(lambda x: x.month)\n",
    "months = [row.month for row in df.itertuples()]\n",
    "#print(sorted(months))\n",
    "\n",
    "# Define the plot\n",
    "plot = Histogram(months, xlabel='Months', ylabel='Frequency', title='Firework Complaints by Month')\n",
    "handle = show(plot, notebook_handle=True)  # Show the figure."
   ]
  },
  {
   "cell_type": "code",
   "execution_count": 3,
   "metadata": {
    "collapsed": false
   },
   "outputs": [
    {
     "ename": "NameError",
     "evalue": "name 'df' is not defined",
     "output_type": "error",
     "traceback": [
      "\u001b[0;31m---------------------------------------------------------------------------\u001b[0m",
      "\u001b[0;31mNameError\u001b[0m                                 Traceback (most recent call last)",
      "\u001b[0;32m<ipython-input-3-3cdceca3026a>\u001b[0m in \u001b[0;36m<module>\u001b[0;34m()\u001b[0m\n\u001b[0;32m----> 1\u001b[0;31m \u001b[0mdf\u001b[0m\u001b[1;33m[\u001b[0m\u001b[1;34m'hour'\u001b[0m\u001b[1;33m]\u001b[0m \u001b[1;33m=\u001b[0m \u001b[0mdf\u001b[0m\u001b[1;33m[\u001b[0m\u001b[1;34m'created_date'\u001b[0m\u001b[1;33m]\u001b[0m\u001b[1;33m.\u001b[0m\u001b[0mapply\u001b[0m\u001b[1;33m(\u001b[0m\u001b[1;32mlambda\u001b[0m \u001b[0mx\u001b[0m\u001b[1;33m:\u001b[0m \u001b[0mx\u001b[0m\u001b[1;33m.\u001b[0m\u001b[0mhour\u001b[0m\u001b[1;33m)\u001b[0m\u001b[1;33m\u001b[0m\u001b[0m\n\u001b[0m\u001b[1;32m      2\u001b[0m \u001b[1;33m\u001b[0m\u001b[0m\n\u001b[1;32m      3\u001b[0m \u001b[0mhour_counts\u001b[0m \u001b[1;33m=\u001b[0m \u001b[0mdf\u001b[0m\u001b[1;33m.\u001b[0m\u001b[0mgroupby\u001b[0m\u001b[1;33m(\u001b[0m\u001b[1;33m[\u001b[0m\u001b[1;34m'hour'\u001b[0m\u001b[1;33m]\u001b[0m\u001b[1;33m,\u001b[0m\u001b[0msort\u001b[0m \u001b[1;33m=\u001b[0m \u001b[1;32mTrue\u001b[0m\u001b[1;33m)\u001b[0m\u001b[1;33m.\u001b[0m\u001b[0mcount\u001b[0m\u001b[1;33m(\u001b[0m\u001b[1;33m)\u001b[0m\u001b[1;33m\u001b[0m\u001b[0m\n\u001b[1;32m      4\u001b[0m \u001b[1;31m# Plot complaint counts\u001b[0m\u001b[1;33m\u001b[0m\u001b[1;33m\u001b[0m\u001b[0m\n\u001b[1;32m      5\u001b[0m hour_counts.plot(kind = 'area', stacked = False,\n",
      "\u001b[0;31mNameError\u001b[0m: name 'df' is not defined"
     ]
    }
   ],
   "source": [
    "df['hour'] = df['created_date'].apply(lambda x: x.hour)\n",
    "\n",
    "hour_counts = df.groupby(['hour'],sort = True).count()\n",
    "# Plot complaint counts\n",
    "hour_counts.plot(kind = 'area', stacked = False,\n",
    "                  color = 'darkorange', linewidth = 2, legend = False)\n",
    "plt.tick_params(axis = 'both', which = 'major', labelsize = 18)\n",
    "plt.title('Number of complaints / hour of the day\\n')\n",
    "plt.xlabel('')\n",
    "plt.ylabel('Number of complaints')"
   ]
  },
  {
   "cell_type": "markdown",
   "metadata": {},
   "source": [
    "# Choropleth map"
   ]
  },
  {
   "cell_type": "code",
   "execution_count": 1,
   "metadata": {
    "collapsed": false
   },
   "outputs": [
    {
     "ename": "NameError",
     "evalue": "name 'df' is not defined",
     "output_type": "error",
     "traceback": [
      "\u001b[0;31m---------------------------------------------------------------------------\u001b[0m",
      "\u001b[0;31mNameError\u001b[0m                                 Traceback (most recent call last)",
      "\u001b[0;32m<ipython-input-1-b8685633baee>\u001b[0m in \u001b[0;36m<module>\u001b[0;34m()\u001b[0m\n\u001b[1;32m      2\u001b[0m \u001b[0mzipcode_geo\u001b[0m \u001b[1;33m=\u001b[0m \u001b[1;34mr'data/ZIPNYC.geojson'\u001b[0m\u001b[1;33m\u001b[0m\u001b[0m\n\u001b[1;32m      3\u001b[0m \u001b[1;33m\u001b[0m\u001b[0m\n\u001b[0;32m----> 4\u001b[0;31m \u001b[0mzip_data\u001b[0m \u001b[1;33m=\u001b[0m \u001b[0mdf\u001b[0m\u001b[1;33m[\u001b[0m\u001b[1;34m\"incident_zip\"\u001b[0m\u001b[1;33m]\u001b[0m\u001b[1;33m.\u001b[0m\u001b[0mvalue_counts\u001b[0m\u001b[1;33m(\u001b[0m\u001b[1;33m)\u001b[0m\u001b[1;33m\u001b[0m\u001b[0m\n\u001b[0m\u001b[1;32m      5\u001b[0m \u001b[0mzip_count\u001b[0m \u001b[1;33m=\u001b[0m \u001b[0mpd\u001b[0m\u001b[1;33m.\u001b[0m\u001b[0mDataFrame\u001b[0m\u001b[1;33m(\u001b[0m\u001b[0mzip_data\u001b[0m\u001b[1;33m)\u001b[0m\u001b[1;33m.\u001b[0m\u001b[0mreset_index\u001b[0m\u001b[1;33m(\u001b[0m\u001b[1;33m)\u001b[0m\u001b[1;33m\u001b[0m\u001b[0m\n\u001b[1;32m      6\u001b[0m \u001b[0mzip_count\u001b[0m\u001b[1;33m.\u001b[0m\u001b[0mcolumns\u001b[0m \u001b[1;33m=\u001b[0m \u001b[1;33m[\u001b[0m\u001b[1;34m\"postalCode\"\u001b[0m\u001b[1;33m,\u001b[0m\u001b[1;34m\"count\"\u001b[0m\u001b[1;33m]\u001b[0m\u001b[1;33m\u001b[0m\u001b[0m\n",
      "\u001b[0;31mNameError\u001b[0m: name 'df' is not defined"
     ]
    }
   ],
   "source": [
    "#choropleth map\n",
    "zipcode_geo = r'data/ZIPNYC.geojson'\n",
    "\n",
    "zip_data = df[\"incident_zip\"].value_counts()\n",
    "zip_count = pd.DataFrame(zip_data).reset_index()\n",
    "zip_count.columns = [\"postalCode\",\"count\"]\n",
    "\n",
    "\n",
    "#Let Folium determine the scale\n",
    "map = folium.Map(location=[40.7128, -74.0059], zoom_start=10)\n",
    "map.choropleth(geo_path=zipcode_geo, data=zip_count,\n",
    "             columns=[\"postalCode\",\"count\"],\n",
    "             key_on='feature.properties.postalCode',\n",
    "             fill_color='BuPu', fill_opacity=0.7, line_opacity=0.2)\n",
    "\n",
    "map.save('html/fireworks_by_zipcode.html')\n",
    "map"
   ]
  },
  {
   "cell_type": "markdown",
   "metadata": {},
   "source": [
    "# Cluster map"
   ]
  },
  {
   "cell_type": "code",
   "execution_count": 2,
   "metadata": {
    "collapsed": false
   },
   "outputs": [
    {
     "ename": "NameError",
     "evalue": "name 'folium' is not defined",
     "output_type": "error",
     "traceback": [
      "\u001b[0;31m---------------------------------------------------------------------------\u001b[0m",
      "\u001b[0;31mNameError\u001b[0m                                 Traceback (most recent call last)",
      "\u001b[0;32m<ipython-input-2-a6fbbb938f31>\u001b[0m in \u001b[0;36m<module>\u001b[0;34m()\u001b[0m\n\u001b[1;32m      1\u001b[0m \u001b[1;32mfrom\u001b[0m \u001b[0mfolium\u001b[0m \u001b[1;32mimport\u001b[0m \u001b[0mplugins\u001b[0m\u001b[1;33m\u001b[0m\u001b[0m\n\u001b[1;32m      2\u001b[0m \u001b[1;33m\u001b[0m\u001b[0m\n\u001b[0;32m----> 3\u001b[0;31m \u001b[0mmarker_cluster\u001b[0m \u001b[1;33m=\u001b[0m \u001b[0mfolium\u001b[0m\u001b[1;33m.\u001b[0m\u001b[0mMarkerCluster\u001b[0m\u001b[1;33m(\u001b[0m\u001b[1;33m)\u001b[0m\u001b[1;33m.\u001b[0m\u001b[0madd_to\u001b[0m\u001b[1;33m(\u001b[0m\u001b[0mmap\u001b[0m\u001b[1;33m)\u001b[0m\u001b[1;33m\u001b[0m\u001b[0m\n\u001b[0m\u001b[1;32m      4\u001b[0m \u001b[1;32mfor\u001b[0m \u001b[0mname\u001b[0m\u001b[1;33m,\u001b[0m \u001b[0mrow\u001b[0m \u001b[1;32min\u001b[0m \u001b[0mdf\u001b[0m\u001b[1;33m.\u001b[0m\u001b[0miterrows\u001b[0m\u001b[1;33m(\u001b[0m\u001b[1;33m)\u001b[0m\u001b[1;33m:\u001b[0m\u001b[1;33m\u001b[0m\u001b[0m\n\u001b[1;32m      5\u001b[0m     \u001b[0mfolium\u001b[0m\u001b[1;33m.\u001b[0m\u001b[0mMarker\u001b[0m\u001b[1;33m(\u001b[0m\u001b[1;33m[\u001b[0m\u001b[0mrow\u001b[0m\u001b[1;33m[\u001b[0m\u001b[1;34m\"latitude\"\u001b[0m\u001b[1;33m]\u001b[0m\u001b[1;33m,\u001b[0m \u001b[0mrow\u001b[0m\u001b[1;33m[\u001b[0m\u001b[1;34m\"longitude\"\u001b[0m\u001b[1;33m]\u001b[0m\u001b[1;33m]\u001b[0m\u001b[1;33m,\u001b[0m \u001b[0mpopup\u001b[0m\u001b[1;33m=\u001b[0m\u001b[1;34m\"{0}\"\u001b[0m\u001b[1;33m.\u001b[0m\u001b[0mformat\u001b[0m\u001b[1;33m(\u001b[0m\u001b[0mrow\u001b[0m\u001b[1;33m[\u001b[0m\u001b[1;34m\"incident_zip\"\u001b[0m\u001b[1;33m]\u001b[0m\u001b[1;33m)\u001b[0m\u001b[1;33m)\u001b[0m\u001b[1;33m.\u001b[0m\u001b[0madd_to\u001b[0m\u001b[1;33m(\u001b[0m\u001b[0mmarker_cluster\u001b[0m\u001b[1;33m)\u001b[0m\u001b[1;33m\u001b[0m\u001b[0m\n",
      "\u001b[0;31mNameError\u001b[0m: name 'folium' is not defined"
     ]
    }
   ],
   "source": [
    "from folium import plugins\n",
    "\n",
    "marker_cluster = folium.MarkerCluster().add_to(map)\n",
    "for name, row in df.iterrows():\n",
    "    folium.Marker([row[\"latitude\"], row[\"longitude\"]], popup=\"{0}\".format(row[\"incident_zip\"])).add_to(marker_cluster)\n",
    "    \n",
    "map.save('html/firework_cluster_map.html')\n",
    "map"
   ]
  }
 ],
 "metadata": {
  "anaconda-cloud": {},
  "kernelspec": {
   "display_name": "Python [conda root]",
   "language": "python",
   "name": "conda-root-py"
  },
  "language_info": {
   "codemirror_mode": {
    "name": "ipython",
    "version": 3
   },
   "file_extension": ".py",
   "mimetype": "text/x-python",
   "name": "python",
   "nbconvert_exporter": "python",
   "pygments_lexer": "ipython3",
   "version": "3.5.2"
  }
 },
 "nbformat": 4,
 "nbformat_minor": 2
}
